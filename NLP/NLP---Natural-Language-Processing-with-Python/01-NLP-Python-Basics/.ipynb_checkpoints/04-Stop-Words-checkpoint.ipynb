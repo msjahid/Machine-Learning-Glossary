{
 "cells": [
  {
   "cell_type": "markdown",
   "metadata": {},
   "source": [
    "___\n",
    "\n",
    "<a href='http://www.pieriandata.com'> <img src='../Pierian_Data_Logo.png' /></a>\n",
    "___"
   ]
  },
  {
   "cell_type": "markdown",
   "metadata": {},
   "source": [
    "# Stop Words\n",
    "Words like \"a\" and \"the\" appear so frequently that they don't require tagging as thoroughly as nouns, verbs and modifiers. We call these *stop words*, and they can be filtered from the text to be processed. spaCy holds a built-in list of some 305 English stop words."
   ]
  },
  {
   "cell_type": "code",
   "execution_count": 1,
   "metadata": {},
   "outputs": [],
   "source": [
    "# Perform standard imports:\n",
    "import spacy\n",
    "nlp = spacy.load('en_core_web_sm')"
   ]
  },
  {
   "cell_type": "code",
   "execution_count": 2,
   "metadata": {},
   "outputs": [
    {
     "name": "stdout",
     "output_type": "stream",
     "text": [
      "{'any', 'even', 'full', 'sometimes', 'used', 'can', 'become', 'here', 'noone', 'been', 'next', 'meanwhile', 'amount', 'hereby', 'get', 'very', 'nothing', 'seeming', 'why', 'whereas', 'again', 'otherwise', 'hers', 'quite', 'too', 'where', 'former', 'hereupon', 'such', 'never', 'whole', 'whom', 'upon', 'go', 'thence', 'or', 'down', 'front', 'i', 'he', 'by', 'will', 'across', 'only', 'toward', 'together', 'had', 'whether', 'whence', 'amongst', \"'ll\", 'sixty', 'own', 'behind', 'do', 'part', 'yourselves', 'rather', 'latter', 'several', 'just', 'being', 'themselves', 'a', 'indeed', 'since', '’ll', 'none', 'eight', 'into', 'us', 'within', 'much', 'least', 'still', \"'s\", 'to', 'were', 'between', 'of', 'every', 'both', 'ours', 'for', 'done', 'first', 'without', 'ten', 'we', '‘ll', 'unless', 'herein', 'himself', 'when', 'except', 'put', 'wherever', '’ve', 'yours', 'either', \"'m\", 'anyhow', 'give', 'three', 'afterwards', 'however', 'wherein', 'does', 'whose', 'whatever', 'using', 'not', 'out', 'always', '‘d', 'these', 'four', 'throughout', 'was', '’re', 'whenever', 'fifteen', 'until', 'off', 'up', 'call', 'at', 'who', 'move', 'thru', 'nor', 'well', 'this', 'eleven', 'should', 'somewhere', 'n‘t', 'one', 'me', 'six', 'other', 'hundred', 'show', 'last', '‘re', 'already', '’d', 'becomes', 'has', 'keep', 'alone', 'below', 'whither', 'each', '‘m', 'therein', 'there', 'also', 'seemed', 'else', 'thereby', 'another', 'with', 're', 'may', 'someone', 'name', 'against', \"'ve\", 'bottom', 'five', 'what', 'mine', 'am', 'if', 'latterly', 'under', 'might', 'besides', 'top', 'above', \"'re\", 'perhaps', 'more', 'did', 'everyone', 'anywhere', 'often', 'on', 'ever', 'hence', 'nine', 'nevertheless', 'his', 'sometime', 'due', 'beforehand', 'others', 'along', 'whereafter', 'becoming', 'nowhere', 'further', 'beyond', 'everywhere', 'and', 'anyone', 'than', 'neither', 'few', 'see', \"n't\", 'became', 'must', 'hereafter', 'all', 'namely', 'ca', 'our', 'serious', 'nobody', 'many', 'twelve', 'but', 'regarding', 'thereafter', '’s', 'something', 'towards', 'which', 'they', 'its', 'those', 'how', '‘s', 'forty', 'really', 'anyway', 'before', 'n’t', 'because', 'once', 'your', 'ourselves', 'mostly', 'various', 'around', 'would', 'then', 'their', 'therefore', 'could', 'be', 'she', 'after', 'everything', 'fifty', 'side', 'anything', 'in', 'elsewhere', 'yet', 'yourself', 'back', 'made', 'beside', 'onto', 'herself', 'seems', 'through', 'via', 'from', '‘ve', 'during', 'the', 'him', 'over', 'it', 'thus', 'though', 'say', 'is', '’m', 'somehow', 'no', 'less', 'her', 'moreover', 'per', 'so', 'as', 'my', 'now', 'twenty', 'itself', 'doing', 'two', 'them', 'have', 'are', 'whereupon', 'same', 'you', 'myself', 'that', 'enough', 'take', 'an', 'about', 'while', 'seem', 'thereupon', 'almost', 'formerly', 'among', 'some', \"'d\", 'empty', 'third', 'cannot', 'whoever', 'make', 'whereby', 'please', 'although', 'most'}\n"
     ]
    }
   ],
   "source": [
    "# Print the set of spaCy's default stop words (remember that sets are unordered):\n",
    "print(nlp.Defaults.stop_words)"
   ]
  },
  {
   "cell_type": "code",
   "execution_count": 3,
   "metadata": {},
   "outputs": [
    {
     "data": {
      "text/plain": [
       "326"
      ]
     },
     "execution_count": 3,
     "metadata": {},
     "output_type": "execute_result"
    }
   ],
   "source": [
    "len(nlp.Defaults.stop_words)"
   ]
  },
  {
   "cell_type": "markdown",
   "metadata": {},
   "source": [
    "## To see if a word is a stop word"
   ]
  },
  {
   "cell_type": "code",
   "execution_count": 4,
   "metadata": {},
   "outputs": [
    {
     "data": {
      "text/plain": [
       "<spacy.lexeme.Lexeme at 0x7fc275f7d550>"
      ]
     },
     "execution_count": 4,
     "metadata": {},
     "output_type": "execute_result"
    }
   ],
   "source": [
    "nlp.vocab['myself']"
   ]
  },
  {
   "cell_type": "code",
   "execution_count": 5,
   "metadata": {},
   "outputs": [
    {
     "data": {
      "text/plain": [
       "True"
      ]
     },
     "execution_count": 5,
     "metadata": {},
     "output_type": "execute_result"
    }
   ],
   "source": [
    "nlp.vocab['myself'].is_stop"
   ]
  },
  {
   "cell_type": "code",
   "execution_count": 6,
   "metadata": {},
   "outputs": [
    {
     "data": {
      "text/plain": [
       "False"
      ]
     },
     "execution_count": 6,
     "metadata": {},
     "output_type": "execute_result"
    }
   ],
   "source": [
    "nlp.vocab['mystery'].is_stop"
   ]
  },
  {
   "cell_type": "markdown",
   "metadata": {},
   "source": [
    "## To add a stop word\n",
    "There may be times when you wish to add a stop word to the default set. Perhaps you decide that `'btw'` (common shorthand for \"by the way\") should be considered a stop word."
   ]
  },
  {
   "cell_type": "code",
   "execution_count": 7,
   "metadata": {},
   "outputs": [],
   "source": [
    "# Add the word to the set of stop words. Use lowercase!\n",
    "nlp.Defaults.stop_words.add('btw')\n",
    "\n",
    "# Set the stop_word tag on the lexeme\n",
    "nlp.vocab['btw'].is_stop = True"
   ]
  },
  {
   "cell_type": "code",
   "execution_count": 8,
   "metadata": {},
   "outputs": [
    {
     "data": {
      "text/plain": [
       "327"
      ]
     },
     "execution_count": 8,
     "metadata": {},
     "output_type": "execute_result"
    }
   ],
   "source": [
    "len(nlp.Defaults.stop_words)"
   ]
  },
  {
   "cell_type": "code",
   "execution_count": 9,
   "metadata": {},
   "outputs": [
    {
     "data": {
      "text/plain": [
       "True"
      ]
     },
     "execution_count": 9,
     "metadata": {},
     "output_type": "execute_result"
    }
   ],
   "source": [
    "nlp.vocab['btw'].is_stop"
   ]
  },
  {
   "cell_type": "markdown",
   "metadata": {},
   "source": [
    "<font color=green>When adding stop words, always use lowercase. Lexemes are converted to lowercase before being added to **vocab**.</font>"
   ]
  },
  {
   "cell_type": "markdown",
   "metadata": {},
   "source": [
    "## To remove a stop word\n",
    "Alternatively, you may decide that `'beyond'` should not be considered a stop word."
   ]
  },
  {
   "cell_type": "code",
   "execution_count": 10,
   "metadata": {},
   "outputs": [],
   "source": [
    "# Remove the word from the set of stop words\n",
    "nlp.Defaults.stop_words.remove('beyond')\n",
    "\n",
    "# Remove the stop_word tag from the lexeme\n",
    "nlp.vocab['beyond'].is_stop = False"
   ]
  },
  {
   "cell_type": "code",
   "execution_count": 11,
   "metadata": {},
   "outputs": [
    {
     "data": {
      "text/plain": [
       "326"
      ]
     },
     "execution_count": 11,
     "metadata": {},
     "output_type": "execute_result"
    }
   ],
   "source": [
    "len(nlp.Defaults.stop_words)"
   ]
  },
  {
   "cell_type": "code",
   "execution_count": 12,
   "metadata": {},
   "outputs": [
    {
     "data": {
      "text/plain": [
       "False"
      ]
     },
     "execution_count": 12,
     "metadata": {},
     "output_type": "execute_result"
    }
   ],
   "source": [
    "nlp.vocab['beyond'].is_stop"
   ]
  },
  {
   "cell_type": "markdown",
   "metadata": {},
   "source": [
    "Great! Now you should be able to access spaCy's default set of stop words, and add or remove stop words as needed.\n",
    "## Next up: Vocabulary and Matching"
   ]
  }
 ],
 "metadata": {
  "kernelspec": {
   "display_name": "Python 3",
   "language": "python",
   "name": "python3"
  },
  "language_info": {
   "codemirror_mode": {
    "name": "ipython",
    "version": 3
   },
   "file_extension": ".py",
   "mimetype": "text/x-python",
   "name": "python",
   "nbconvert_exporter": "python",
   "pygments_lexer": "ipython3",
   "version": "3.7.6"
  }
 },
 "nbformat": 4,
 "nbformat_minor": 2
}
