{
 "cells": [
  {
   "cell_type": "code",
   "execution_count": 212,
   "metadata": {},
   "outputs": [],
   "source": [
    "import pandas as pd \n",
    "import numpy as np\n",
    "import seaborn as sns"
   ]
  },
  {
   "cell_type": "code",
   "execution_count": 213,
   "metadata": {},
   "outputs": [],
   "source": [
    "df = pd.read_csv('/home/msjahid/Downloads/dataset_bd.csv')"
   ]
  },
  {
   "cell_type": "code",
   "execution_count": 214,
   "metadata": {},
   "outputs": [
    {
     "data": {
      "text/html": [
       "<div>\n",
       "<style scoped>\n",
       "    .dataframe tbody tr th:only-of-type {\n",
       "        vertical-align: middle;\n",
       "    }\n",
       "\n",
       "    .dataframe tbody tr th {\n",
       "        vertical-align: top;\n",
       "    }\n",
       "\n",
       "    .dataframe thead th {\n",
       "        text-align: right;\n",
       "    }\n",
       "</style>\n",
       "<table border=\"1\" class=\"dataframe\">\n",
       "  <thead>\n",
       "    <tr style=\"text-align: right;\">\n",
       "      <th></th>\n",
       "      <th>date</th>\n",
       "      <th>temp</th>\n",
       "      <th>new_case</th>\n",
       "      <th>total_case</th>\n",
       "      <th>new_deaths</th>\n",
       "      <th>total_deaths</th>\n",
       "      <th>totai_test</th>\n",
       "    </tr>\n",
       "  </thead>\n",
       "  <tbody>\n",
       "    <tr>\n",
       "      <th>0</th>\n",
       "      <td>2020-03-08</td>\n",
       "      <td>30</td>\n",
       "      <td>3</td>\n",
       "      <td>3</td>\n",
       "      <td>0</td>\n",
       "      <td>0</td>\n",
       "      <td>111</td>\n",
       "    </tr>\n",
       "    <tr>\n",
       "      <th>1</th>\n",
       "      <td>2020-03-09</td>\n",
       "      <td>30</td>\n",
       "      <td>0</td>\n",
       "      <td>3</td>\n",
       "      <td>0</td>\n",
       "      <td>0</td>\n",
       "      <td>126</td>\n",
       "    </tr>\n",
       "    <tr>\n",
       "      <th>2</th>\n",
       "      <td>2020-03-10</td>\n",
       "      <td>30</td>\n",
       "      <td>0</td>\n",
       "      <td>3</td>\n",
       "      <td>0</td>\n",
       "      <td>0</td>\n",
       "      <td>101</td>\n",
       "    </tr>\n",
       "    <tr>\n",
       "      <th>3</th>\n",
       "      <td>2020-03-11</td>\n",
       "      <td>31</td>\n",
       "      <td>0</td>\n",
       "      <td>3</td>\n",
       "      <td>0</td>\n",
       "      <td>0</td>\n",
       "      <td>156</td>\n",
       "    </tr>\n",
       "    <tr>\n",
       "      <th>4</th>\n",
       "      <td>2020-03-12</td>\n",
       "      <td>29</td>\n",
       "      <td>0</td>\n",
       "      <td>3</td>\n",
       "      <td>0</td>\n",
       "      <td>0</td>\n",
       "      <td>179</td>\n",
       "    </tr>\n",
       "  </tbody>\n",
       "</table>\n",
       "</div>"
      ],
      "text/plain": [
       "         date  temp  new_case  total_case  new_deaths  total_deaths  \\\n",
       "0  2020-03-08    30         3           3           0             0   \n",
       "1  2020-03-09    30         0           3           0             0   \n",
       "2  2020-03-10    30         0           3           0             0   \n",
       "3  2020-03-11    31         0           3           0             0   \n",
       "4  2020-03-12    29         0           3           0             0   \n",
       "\n",
       "   totai_test  \n",
       "0         111  \n",
       "1         126  \n",
       "2         101  \n",
       "3         156  \n",
       "4         179  "
      ]
     },
     "execution_count": 214,
     "metadata": {},
     "output_type": "execute_result"
    }
   ],
   "source": [
    "df.head()"
   ]
  },
  {
   "cell_type": "code",
   "execution_count": 215,
   "metadata": {},
   "outputs": [
    {
     "data": {
      "text/plain": [
       "<bound method DataFrame.info of            date  temp  new_case  total_case  new_deaths  total_deaths  \\\n",
       "0    2020-03-08    30         3           3           0             0   \n",
       "1    2020-03-09    30         0           3           0             0   \n",
       "2    2020-03-10    30         0           3           0             0   \n",
       "3    2020-03-11    31         0           3           0             0   \n",
       "4    2020-03-12    29         0           3           0             0   \n",
       "..          ...   ...       ...         ...         ...           ...   \n",
       "332  2021-02-03    26       438      536545           7          8094   \n",
       "333  2021-02-04    26       485      537030          17          8111   \n",
       "334  2021-02-05    28       435      537465          16          8127   \n",
       "335  2021-02-06    28       305      537770          10          8137   \n",
       "336  2021-02-07    26       292      538062          12          8149   \n",
       "\n",
       "     totai_test  \n",
       "0           111  \n",
       "1           126  \n",
       "2           101  \n",
       "3           156  \n",
       "4           179  \n",
       "..          ...  \n",
       "332       14985  \n",
       "333       15273  \n",
       "334       15566  \n",
       "335       12135  \n",
       "336       12404  \n",
       "\n",
       "[337 rows x 7 columns]>"
      ]
     },
     "execution_count": 215,
     "metadata": {},
     "output_type": "execute_result"
    }
   ],
   "source": [
    "df.info"
   ]
  },
  {
   "cell_type": "code",
   "execution_count": 216,
   "metadata": {},
   "outputs": [
    {
     "data": {
      "text/plain": [
       "date            False\n",
       "temp            False\n",
       "new_case        False\n",
       "total_case      False\n",
       "new_deaths      False\n",
       "total_deaths    False\n",
       "totai_test      False\n",
       "dtype: bool"
      ]
     },
     "execution_count": 216,
     "metadata": {},
     "output_type": "execute_result"
    }
   ],
   "source": [
    "df.isnull().any()"
   ]
  },
  {
   "cell_type": "code",
   "execution_count": 217,
   "metadata": {},
   "outputs": [
    {
     "data": {
      "text/plain": [
       "Index(['date', 'temp', 'new_case', 'total_case', 'new_deaths', 'total_deaths',\n",
       "       'totai_test'],\n",
       "      dtype='object')"
      ]
     },
     "execution_count": 217,
     "metadata": {},
     "output_type": "execute_result"
    }
   ],
   "source": [
    "df.columns"
   ]
  },
  {
   "cell_type": "code",
   "execution_count": 218,
   "metadata": {},
   "outputs": [
    {
     "data": {
      "text/plain": [
       "(337, 7)"
      ]
     },
     "execution_count": 218,
     "metadata": {},
     "output_type": "execute_result"
    }
   ],
   "source": [
    "df.shape"
   ]
  },
  {
   "cell_type": "code",
   "execution_count": 219,
   "metadata": {},
   "outputs": [],
   "source": [
    "from datetime import datetime"
   ]
  },
  {
   "cell_type": "code",
   "execution_count": 220,
   "metadata": {},
   "outputs": [
    {
     "data": {
      "text/plain": [
       "0      2020-03-08\n",
       "1      2020-03-09\n",
       "2      2020-03-10\n",
       "3      2020-03-11\n",
       "4      2020-03-12\n",
       "          ...    \n",
       "332    2021-02-03\n",
       "333    2021-02-04\n",
       "334    2021-02-05\n",
       "335    2021-02-06\n",
       "336    2021-02-07\n",
       "Name: date, Length: 337, dtype: object"
      ]
     },
     "execution_count": 220,
     "metadata": {},
     "output_type": "execute_result"
    }
   ],
   "source": [
    "df['date']"
   ]
  },
  {
   "cell_type": "code",
   "execution_count": 221,
   "metadata": {},
   "outputs": [],
   "source": [
    "df.rename(columns={'totai_test': 'total_test'}, inplace=True)"
   ]
  },
  {
   "cell_type": "code",
   "execution_count": 222,
   "metadata": {},
   "outputs": [
    {
     "data": {
      "text/html": [
       "<div>\n",
       "<style scoped>\n",
       "    .dataframe tbody tr th:only-of-type {\n",
       "        vertical-align: middle;\n",
       "    }\n",
       "\n",
       "    .dataframe tbody tr th {\n",
       "        vertical-align: top;\n",
       "    }\n",
       "\n",
       "    .dataframe thead th {\n",
       "        text-align: right;\n",
       "    }\n",
       "</style>\n",
       "<table border=\"1\" class=\"dataframe\">\n",
       "  <thead>\n",
       "    <tr style=\"text-align: right;\">\n",
       "      <th></th>\n",
       "      <th>date</th>\n",
       "      <th>temp</th>\n",
       "      <th>new_case</th>\n",
       "      <th>total_case</th>\n",
       "      <th>new_deaths</th>\n",
       "      <th>total_deaths</th>\n",
       "      <th>total_test</th>\n",
       "    </tr>\n",
       "  </thead>\n",
       "  <tbody>\n",
       "    <tr>\n",
       "      <th>0</th>\n",
       "      <td>2020-03-08</td>\n",
       "      <td>30</td>\n",
       "      <td>3</td>\n",
       "      <td>3</td>\n",
       "      <td>0</td>\n",
       "      <td>0</td>\n",
       "      <td>111</td>\n",
       "    </tr>\n",
       "    <tr>\n",
       "      <th>1</th>\n",
       "      <td>2020-03-09</td>\n",
       "      <td>30</td>\n",
       "      <td>0</td>\n",
       "      <td>3</td>\n",
       "      <td>0</td>\n",
       "      <td>0</td>\n",
       "      <td>126</td>\n",
       "    </tr>\n",
       "    <tr>\n",
       "      <th>2</th>\n",
       "      <td>2020-03-10</td>\n",
       "      <td>30</td>\n",
       "      <td>0</td>\n",
       "      <td>3</td>\n",
       "      <td>0</td>\n",
       "      <td>0</td>\n",
       "      <td>101</td>\n",
       "    </tr>\n",
       "    <tr>\n",
       "      <th>3</th>\n",
       "      <td>2020-03-11</td>\n",
       "      <td>31</td>\n",
       "      <td>0</td>\n",
       "      <td>3</td>\n",
       "      <td>0</td>\n",
       "      <td>0</td>\n",
       "      <td>156</td>\n",
       "    </tr>\n",
       "    <tr>\n",
       "      <th>4</th>\n",
       "      <td>2020-03-12</td>\n",
       "      <td>29</td>\n",
       "      <td>0</td>\n",
       "      <td>3</td>\n",
       "      <td>0</td>\n",
       "      <td>0</td>\n",
       "      <td>179</td>\n",
       "    </tr>\n",
       "    <tr>\n",
       "      <th>5</th>\n",
       "      <td>2020-03-13</td>\n",
       "      <td>28</td>\n",
       "      <td>0</td>\n",
       "      <td>3</td>\n",
       "      <td>0</td>\n",
       "      <td>0</td>\n",
       "      <td>198</td>\n",
       "    </tr>\n",
       "    <tr>\n",
       "      <th>6</th>\n",
       "      <td>2020-03-14</td>\n",
       "      <td>30</td>\n",
       "      <td>0</td>\n",
       "      <td>3</td>\n",
       "      <td>0</td>\n",
       "      <td>0</td>\n",
       "      <td>207</td>\n",
       "    </tr>\n",
       "    <tr>\n",
       "      <th>7</th>\n",
       "      <td>2020-03-15</td>\n",
       "      <td>31</td>\n",
       "      <td>2</td>\n",
       "      <td>5</td>\n",
       "      <td>0</td>\n",
       "      <td>0</td>\n",
       "      <td>146</td>\n",
       "    </tr>\n",
       "    <tr>\n",
       "      <th>8</th>\n",
       "      <td>2020-03-16</td>\n",
       "      <td>32</td>\n",
       "      <td>3</td>\n",
       "      <td>8</td>\n",
       "      <td>0</td>\n",
       "      <td>0</td>\n",
       "      <td>187</td>\n",
       "    </tr>\n",
       "    <tr>\n",
       "      <th>9</th>\n",
       "      <td>2020-03-17</td>\n",
       "      <td>33</td>\n",
       "      <td>2</td>\n",
       "      <td>10</td>\n",
       "      <td>0</td>\n",
       "      <td>0</td>\n",
       "      <td>175</td>\n",
       "    </tr>\n",
       "    <tr>\n",
       "      <th>10</th>\n",
       "      <td>2020-03-18</td>\n",
       "      <td>34</td>\n",
       "      <td>4</td>\n",
       "      <td>14</td>\n",
       "      <td>0</td>\n",
       "      <td>0</td>\n",
       "      <td>164</td>\n",
       "    </tr>\n",
       "    <tr>\n",
       "      <th>11</th>\n",
       "      <td>2020-03-19</td>\n",
       "      <td>33</td>\n",
       "      <td>3</td>\n",
       "      <td>17</td>\n",
       "      <td>0</td>\n",
       "      <td>0</td>\n",
       "      <td>197</td>\n",
       "    </tr>\n",
       "    <tr>\n",
       "      <th>12</th>\n",
       "      <td>2020-03-20</td>\n",
       "      <td>33</td>\n",
       "      <td>3</td>\n",
       "      <td>20</td>\n",
       "      <td>0</td>\n",
       "      <td>0</td>\n",
       "      <td>176</td>\n",
       "    </tr>\n",
       "    <tr>\n",
       "      <th>13</th>\n",
       "      <td>2020-03-21</td>\n",
       "      <td>33</td>\n",
       "      <td>5</td>\n",
       "      <td>25</td>\n",
       "      <td>0</td>\n",
       "      <td>0</td>\n",
       "      <td>176</td>\n",
       "    </tr>\n",
       "    <tr>\n",
       "      <th>14</th>\n",
       "      <td>2020-03-22</td>\n",
       "      <td>32</td>\n",
       "      <td>2</td>\n",
       "      <td>27</td>\n",
       "      <td>0</td>\n",
       "      <td>0</td>\n",
       "      <td>204</td>\n",
       "    </tr>\n",
       "    <tr>\n",
       "      <th>15</th>\n",
       "      <td>2020-03-23</td>\n",
       "      <td>32</td>\n",
       "      <td>6</td>\n",
       "      <td>33</td>\n",
       "      <td>1</td>\n",
       "      <td>1</td>\n",
       "      <td>183</td>\n",
       "    </tr>\n",
       "    <tr>\n",
       "      <th>16</th>\n",
       "      <td>2020-03-24</td>\n",
       "      <td>33</td>\n",
       "      <td>6</td>\n",
       "      <td>39</td>\n",
       "      <td>0</td>\n",
       "      <td>1</td>\n",
       "      <td>189</td>\n",
       "    </tr>\n",
       "    <tr>\n",
       "      <th>17</th>\n",
       "      <td>2020-03-25</td>\n",
       "      <td>33</td>\n",
       "      <td>0</td>\n",
       "      <td>39</td>\n",
       "      <td>0</td>\n",
       "      <td>1</td>\n",
       "      <td>174</td>\n",
       "    </tr>\n",
       "    <tr>\n",
       "      <th>18</th>\n",
       "      <td>2020-03-26</td>\n",
       "      <td>34</td>\n",
       "      <td>5</td>\n",
       "      <td>44</td>\n",
       "      <td>1</td>\n",
       "      <td>2</td>\n",
       "      <td>186</td>\n",
       "    </tr>\n",
       "    <tr>\n",
       "      <th>19</th>\n",
       "      <td>2020-03-27</td>\n",
       "      <td>31</td>\n",
       "      <td>4</td>\n",
       "      <td>48</td>\n",
       "      <td>0</td>\n",
       "      <td>2</td>\n",
       "      <td>154</td>\n",
       "    </tr>\n",
       "    <tr>\n",
       "      <th>20</th>\n",
       "      <td>2020-03-28</td>\n",
       "      <td>31</td>\n",
       "      <td>0</td>\n",
       "      <td>48</td>\n",
       "      <td>1</td>\n",
       "      <td>3</td>\n",
       "      <td>156</td>\n",
       "    </tr>\n",
       "    <tr>\n",
       "      <th>21</th>\n",
       "      <td>2020-03-29</td>\n",
       "      <td>32</td>\n",
       "      <td>0</td>\n",
       "      <td>48</td>\n",
       "      <td>1</td>\n",
       "      <td>4</td>\n",
       "      <td>169</td>\n",
       "    </tr>\n",
       "    <tr>\n",
       "      <th>22</th>\n",
       "      <td>2020-03-30</td>\n",
       "      <td>34</td>\n",
       "      <td>1</td>\n",
       "      <td>49</td>\n",
       "      <td>1</td>\n",
       "      <td>5</td>\n",
       "      <td>189</td>\n",
       "    </tr>\n",
       "    <tr>\n",
       "      <th>23</th>\n",
       "      <td>2020-03-31</td>\n",
       "      <td>35</td>\n",
       "      <td>2</td>\n",
       "      <td>51</td>\n",
       "      <td>0</td>\n",
       "      <td>5</td>\n",
       "      <td>205</td>\n",
       "    </tr>\n",
       "    <tr>\n",
       "      <th>24</th>\n",
       "      <td>2020-04-01</td>\n",
       "      <td>35</td>\n",
       "      <td>3</td>\n",
       "      <td>54</td>\n",
       "      <td>0</td>\n",
       "      <td>5</td>\n",
       "      <td>167</td>\n",
       "    </tr>\n",
       "    <tr>\n",
       "      <th>25</th>\n",
       "      <td>2020-04-02</td>\n",
       "      <td>36</td>\n",
       "      <td>2</td>\n",
       "      <td>56</td>\n",
       "      <td>0</td>\n",
       "      <td>5</td>\n",
       "      <td>187</td>\n",
       "    </tr>\n",
       "    <tr>\n",
       "      <th>26</th>\n",
       "      <td>2020-04-03</td>\n",
       "      <td>36</td>\n",
       "      <td>5</td>\n",
       "      <td>61</td>\n",
       "      <td>0</td>\n",
       "      <td>5</td>\n",
       "      <td>203</td>\n",
       "    </tr>\n",
       "    <tr>\n",
       "      <th>27</th>\n",
       "      <td>2020-04-04</td>\n",
       "      <td>35</td>\n",
       "      <td>9</td>\n",
       "      <td>70</td>\n",
       "      <td>0</td>\n",
       "      <td>5</td>\n",
       "      <td>434</td>\n",
       "    </tr>\n",
       "    <tr>\n",
       "      <th>28</th>\n",
       "      <td>2020-04-05</td>\n",
       "      <td>36</td>\n",
       "      <td>18</td>\n",
       "      <td>88</td>\n",
       "      <td>0</td>\n",
       "      <td>5</td>\n",
       "      <td>368</td>\n",
       "    </tr>\n",
       "    <tr>\n",
       "      <th>29</th>\n",
       "      <td>2020-04-06</td>\n",
       "      <td>37</td>\n",
       "      <td>35</td>\n",
       "      <td>123</td>\n",
       "      <td>1</td>\n",
       "      <td>6</td>\n",
       "      <td>468</td>\n",
       "    </tr>\n",
       "    <tr>\n",
       "      <th>30</th>\n",
       "      <td>2020-04-07</td>\n",
       "      <td>37</td>\n",
       "      <td>41</td>\n",
       "      <td>164</td>\n",
       "      <td>0</td>\n",
       "      <td>6</td>\n",
       "      <td>679</td>\n",
       "    </tr>\n",
       "    <tr>\n",
       "      <th>31</th>\n",
       "      <td>2020-04-08</td>\n",
       "      <td>34</td>\n",
       "      <td>54</td>\n",
       "      <td>218</td>\n",
       "      <td>0</td>\n",
       "      <td>6</td>\n",
       "      <td>981</td>\n",
       "    </tr>\n",
       "    <tr>\n",
       "      <th>32</th>\n",
       "      <td>2020-04-09</td>\n",
       "      <td>36</td>\n",
       "      <td>112</td>\n",
       "      <td>330</td>\n",
       "      <td>2</td>\n",
       "      <td>8</td>\n",
       "      <td>905</td>\n",
       "    </tr>\n",
       "    <tr>\n",
       "      <th>33</th>\n",
       "      <td>2020-04-10</td>\n",
       "      <td>36</td>\n",
       "      <td>94</td>\n",
       "      <td>424</td>\n",
       "      <td>1</td>\n",
       "      <td>9</td>\n",
       "      <td>1184</td>\n",
       "    </tr>\n",
       "    <tr>\n",
       "      <th>34</th>\n",
       "      <td>2020-04-11</td>\n",
       "      <td>35</td>\n",
       "      <td>58</td>\n",
       "      <td>482</td>\n",
       "      <td>3</td>\n",
       "      <td>12</td>\n",
       "      <td>1234</td>\n",
       "    </tr>\n",
       "    <tr>\n",
       "      <th>35</th>\n",
       "      <td>2020-04-12</td>\n",
       "      <td>36</td>\n",
       "      <td>139</td>\n",
       "      <td>621</td>\n",
       "      <td>5</td>\n",
       "      <td>17</td>\n",
       "      <td>1176</td>\n",
       "    </tr>\n",
       "    <tr>\n",
       "      <th>36</th>\n",
       "      <td>2020-04-13</td>\n",
       "      <td>37</td>\n",
       "      <td>182</td>\n",
       "      <td>803</td>\n",
       "      <td>3</td>\n",
       "      <td>20</td>\n",
       "      <td>1543</td>\n",
       "    </tr>\n",
       "    <tr>\n",
       "      <th>37</th>\n",
       "      <td>2020-04-14</td>\n",
       "      <td>37</td>\n",
       "      <td>209</td>\n",
       "      <td>1012</td>\n",
       "      <td>1</td>\n",
       "      <td>21</td>\n",
       "      <td>1984</td>\n",
       "    </tr>\n",
       "    <tr>\n",
       "      <th>38</th>\n",
       "      <td>2020-04-15</td>\n",
       "      <td>37</td>\n",
       "      <td>219</td>\n",
       "      <td>1231</td>\n",
       "      <td>6</td>\n",
       "      <td>27</td>\n",
       "      <td>2498</td>\n",
       "    </tr>\n",
       "    <tr>\n",
       "      <th>39</th>\n",
       "      <td>2020-04-16</td>\n",
       "      <td>37</td>\n",
       "      <td>341</td>\n",
       "      <td>1572</td>\n",
       "      <td>3</td>\n",
       "      <td>30</td>\n",
       "      <td>2301</td>\n",
       "    </tr>\n",
       "    <tr>\n",
       "      <th>40</th>\n",
       "      <td>2020-04-17</td>\n",
       "      <td>31</td>\n",
       "      <td>266</td>\n",
       "      <td>1838</td>\n",
       "      <td>4</td>\n",
       "      <td>34</td>\n",
       "      <td>2607</td>\n",
       "    </tr>\n",
       "    <tr>\n",
       "      <th>41</th>\n",
       "      <td>2020-04-18</td>\n",
       "      <td>33</td>\n",
       "      <td>306</td>\n",
       "      <td>2144</td>\n",
       "      <td>5</td>\n",
       "      <td>39</td>\n",
       "      <td>3108</td>\n",
       "    </tr>\n",
       "    <tr>\n",
       "      <th>42</th>\n",
       "      <td>2020-04-19</td>\n",
       "      <td>36</td>\n",
       "      <td>312</td>\n",
       "      <td>2456</td>\n",
       "      <td>7</td>\n",
       "      <td>46</td>\n",
       "      <td>3407</td>\n",
       "    </tr>\n",
       "    <tr>\n",
       "      <th>43</th>\n",
       "      <td>2020-04-20</td>\n",
       "      <td>33</td>\n",
       "      <td>492</td>\n",
       "      <td>2948</td>\n",
       "      <td>4</td>\n",
       "      <td>50</td>\n",
       "      <td>3285</td>\n",
       "    </tr>\n",
       "    <tr>\n",
       "      <th>44</th>\n",
       "      <td>2020-04-21</td>\n",
       "      <td>33</td>\n",
       "      <td>434</td>\n",
       "      <td>3382</td>\n",
       "      <td>10</td>\n",
       "      <td>60</td>\n",
       "      <td>3765</td>\n",
       "    </tr>\n",
       "    <tr>\n",
       "      <th>45</th>\n",
       "      <td>2020-04-22</td>\n",
       "      <td>33</td>\n",
       "      <td>390</td>\n",
       "      <td>3772</td>\n",
       "      <td>15</td>\n",
       "      <td>75</td>\n",
       "      <td>4175</td>\n",
       "    </tr>\n",
       "    <tr>\n",
       "      <th>46</th>\n",
       "      <td>2020-04-23</td>\n",
       "      <td>35</td>\n",
       "      <td>414</td>\n",
       "      <td>4186</td>\n",
       "      <td>9</td>\n",
       "      <td>84</td>\n",
       "      <td>4596</td>\n",
       "    </tr>\n",
       "    <tr>\n",
       "      <th>47</th>\n",
       "      <td>2020-04-24</td>\n",
       "      <td>36</td>\n",
       "      <td>503</td>\n",
       "      <td>4689</td>\n",
       "      <td>7</td>\n",
       "      <td>91</td>\n",
       "      <td>5143</td>\n",
       "    </tr>\n",
       "    <tr>\n",
       "      <th>48</th>\n",
       "      <td>2020-04-25</td>\n",
       "      <td>32</td>\n",
       "      <td>309</td>\n",
       "      <td>4998</td>\n",
       "      <td>10</td>\n",
       "      <td>101</td>\n",
       "      <td>5376</td>\n",
       "    </tr>\n",
       "    <tr>\n",
       "      <th>49</th>\n",
       "      <td>2020-04-26</td>\n",
       "      <td>31</td>\n",
       "      <td>418</td>\n",
       "      <td>5416</td>\n",
       "      <td>9</td>\n",
       "      <td>110</td>\n",
       "      <td>5474</td>\n",
       "    </tr>\n",
       "  </tbody>\n",
       "</table>\n",
       "</div>"
      ],
      "text/plain": [
       "          date  temp  new_case  total_case  new_deaths  total_deaths  \\\n",
       "0   2020-03-08    30         3           3           0             0   \n",
       "1   2020-03-09    30         0           3           0             0   \n",
       "2   2020-03-10    30         0           3           0             0   \n",
       "3   2020-03-11    31         0           3           0             0   \n",
       "4   2020-03-12    29         0           3           0             0   \n",
       "5   2020-03-13    28         0           3           0             0   \n",
       "6   2020-03-14    30         0           3           0             0   \n",
       "7   2020-03-15    31         2           5           0             0   \n",
       "8   2020-03-16    32         3           8           0             0   \n",
       "9   2020-03-17    33         2          10           0             0   \n",
       "10  2020-03-18    34         4          14           0             0   \n",
       "11  2020-03-19    33         3          17           0             0   \n",
       "12  2020-03-20    33         3          20           0             0   \n",
       "13  2020-03-21    33         5          25           0             0   \n",
       "14  2020-03-22    32         2          27           0             0   \n",
       "15  2020-03-23    32         6          33           1             1   \n",
       "16  2020-03-24    33         6          39           0             1   \n",
       "17  2020-03-25    33         0          39           0             1   \n",
       "18  2020-03-26    34         5          44           1             2   \n",
       "19  2020-03-27    31         4          48           0             2   \n",
       "20  2020-03-28    31         0          48           1             3   \n",
       "21  2020-03-29    32         0          48           1             4   \n",
       "22  2020-03-30    34         1          49           1             5   \n",
       "23  2020-03-31    35         2          51           0             5   \n",
       "24  2020-04-01    35         3          54           0             5   \n",
       "25  2020-04-02    36         2          56           0             5   \n",
       "26  2020-04-03    36         5          61           0             5   \n",
       "27  2020-04-04    35         9          70           0             5   \n",
       "28  2020-04-05    36        18          88           0             5   \n",
       "29  2020-04-06    37        35         123           1             6   \n",
       "30  2020-04-07    37        41         164           0             6   \n",
       "31  2020-04-08    34        54         218           0             6   \n",
       "32  2020-04-09    36       112         330           2             8   \n",
       "33  2020-04-10    36        94         424           1             9   \n",
       "34  2020-04-11    35        58         482           3            12   \n",
       "35  2020-04-12    36       139         621           5            17   \n",
       "36  2020-04-13    37       182         803           3            20   \n",
       "37  2020-04-14    37       209        1012           1            21   \n",
       "38  2020-04-15    37       219        1231           6            27   \n",
       "39  2020-04-16    37       341        1572           3            30   \n",
       "40  2020-04-17    31       266        1838           4            34   \n",
       "41  2020-04-18    33       306        2144           5            39   \n",
       "42  2020-04-19    36       312        2456           7            46   \n",
       "43  2020-04-20    33       492        2948           4            50   \n",
       "44  2020-04-21    33       434        3382          10            60   \n",
       "45  2020-04-22    33       390        3772          15            75   \n",
       "46  2020-04-23    35       414        4186           9            84   \n",
       "47  2020-04-24    36       503        4689           7            91   \n",
       "48  2020-04-25    32       309        4998          10           101   \n",
       "49  2020-04-26    31       418        5416           9           110   \n",
       "\n",
       "    total_test  \n",
       "0          111  \n",
       "1          126  \n",
       "2          101  \n",
       "3          156  \n",
       "4          179  \n",
       "5          198  \n",
       "6          207  \n",
       "7          146  \n",
       "8          187  \n",
       "9          175  \n",
       "10         164  \n",
       "11         197  \n",
       "12         176  \n",
       "13         176  \n",
       "14         204  \n",
       "15         183  \n",
       "16         189  \n",
       "17         174  \n",
       "18         186  \n",
       "19         154  \n",
       "20         156  \n",
       "21         169  \n",
       "22         189  \n",
       "23         205  \n",
       "24         167  \n",
       "25         187  \n",
       "26         203  \n",
       "27         434  \n",
       "28         368  \n",
       "29         468  \n",
       "30         679  \n",
       "31         981  \n",
       "32         905  \n",
       "33        1184  \n",
       "34        1234  \n",
       "35        1176  \n",
       "36        1543  \n",
       "37        1984  \n",
       "38        2498  \n",
       "39        2301  \n",
       "40        2607  \n",
       "41        3108  \n",
       "42        3407  \n",
       "43        3285  \n",
       "44        3765  \n",
       "45        4175  \n",
       "46        4596  \n",
       "47        5143  \n",
       "48        5376  \n",
       "49        5474  "
      ]
     },
     "execution_count": 222,
     "metadata": {},
     "output_type": "execute_result"
    }
   ],
   "source": [
    "df.head(50)"
   ]
  },
  {
   "cell_type": "code",
   "execution_count": 223,
   "metadata": {},
   "outputs": [
    {
     "name": "stdout",
     "output_type": "stream",
     "text": [
      "<class 'pandas.core.frame.DataFrame'>\n",
      "RangeIndex: 337 entries, 0 to 336\n",
      "Data columns (total 14 columns):\n",
      " #   Column        Non-Null Count  Dtype \n",
      "---  ------        --------------  ----- \n",
      " 0   date          337 non-null    object\n",
      " 1   temp          337 non-null    int64 \n",
      " 2   new_case      337 non-null    int64 \n",
      " 3   total_case    337 non-null    int64 \n",
      " 4   new_deaths    337 non-null    int64 \n",
      " 5   total_deaths  337 non-null    int64 \n",
      " 6   total_test    337 non-null    int64 \n",
      " 7   year          337 non-null    int64 \n",
      " 8   month         337 non-null    int64 \n",
      " 9   day           337 non-null    int64 \n",
      " 10  dayofyear     337 non-null    int64 \n",
      " 11  weekofyear    337 non-null    int64 \n",
      " 12  weekday       337 non-null    int64 \n",
      " 13  quarter       337 non-null    int64 \n",
      "dtypes: int64(13), object(1)\n",
      "memory usage: 37.0+ KB\n",
      "None\n"
     ]
    }
   ],
   "source": [
    "import datetime\n",
    "df['date'] = pd.to_datetime(df['date'])\n",
    "df['date'] = df['date'].dt.strftime('%Y.%m.%d')\n",
    "df['year'] = pd.DatetimeIndex(df['date']).year\n",
    "df['month'] = pd.DatetimeIndex(df['date']).month\n",
    "df['day'] = pd.DatetimeIndex(df['date']).day\n",
    "df['dayofyear'] = pd.DatetimeIndex(df['date']).dayofyear\n",
    "df['weekofyear'] = pd.DatetimeIndex(df['date']).weekofyear\n",
    "df['weekday'] = pd.DatetimeIndex(df['date']).weekday\n",
    "df['quarter'] = pd.DatetimeIndex(df['date']).quarter\n",
    "print(df.info())"
   ]
  },
  {
   "cell_type": "code",
   "execution_count": 224,
   "metadata": {},
   "outputs": [],
   "source": [
    "df = df.drop(['date'], axis = 1) "
   ]
  },
  {
   "cell_type": "code",
   "execution_count": 225,
   "metadata": {},
   "outputs": [
    {
     "data": {
      "text/html": [
       "<div>\n",
       "<style scoped>\n",
       "    .dataframe tbody tr th:only-of-type {\n",
       "        vertical-align: middle;\n",
       "    }\n",
       "\n",
       "    .dataframe tbody tr th {\n",
       "        vertical-align: top;\n",
       "    }\n",
       "\n",
       "    .dataframe thead th {\n",
       "        text-align: right;\n",
       "    }\n",
       "</style>\n",
       "<table border=\"1\" class=\"dataframe\">\n",
       "  <thead>\n",
       "    <tr style=\"text-align: right;\">\n",
       "      <th></th>\n",
       "      <th>temp</th>\n",
       "      <th>new_case</th>\n",
       "      <th>total_case</th>\n",
       "      <th>new_deaths</th>\n",
       "      <th>total_deaths</th>\n",
       "      <th>total_test</th>\n",
       "      <th>year</th>\n",
       "      <th>month</th>\n",
       "      <th>day</th>\n",
       "      <th>dayofyear</th>\n",
       "      <th>weekofyear</th>\n",
       "      <th>weekday</th>\n",
       "      <th>quarter</th>\n",
       "    </tr>\n",
       "  </thead>\n",
       "  <tbody>\n",
       "    <tr>\n",
       "      <th>0</th>\n",
       "      <td>30</td>\n",
       "      <td>3</td>\n",
       "      <td>3</td>\n",
       "      <td>0</td>\n",
       "      <td>0</td>\n",
       "      <td>111</td>\n",
       "      <td>2020</td>\n",
       "      <td>3</td>\n",
       "      <td>8</td>\n",
       "      <td>68</td>\n",
       "      <td>10</td>\n",
       "      <td>6</td>\n",
       "      <td>1</td>\n",
       "    </tr>\n",
       "    <tr>\n",
       "      <th>1</th>\n",
       "      <td>30</td>\n",
       "      <td>0</td>\n",
       "      <td>3</td>\n",
       "      <td>0</td>\n",
       "      <td>0</td>\n",
       "      <td>126</td>\n",
       "      <td>2020</td>\n",
       "      <td>3</td>\n",
       "      <td>9</td>\n",
       "      <td>69</td>\n",
       "      <td>11</td>\n",
       "      <td>0</td>\n",
       "      <td>1</td>\n",
       "    </tr>\n",
       "    <tr>\n",
       "      <th>2</th>\n",
       "      <td>30</td>\n",
       "      <td>0</td>\n",
       "      <td>3</td>\n",
       "      <td>0</td>\n",
       "      <td>0</td>\n",
       "      <td>101</td>\n",
       "      <td>2020</td>\n",
       "      <td>3</td>\n",
       "      <td>10</td>\n",
       "      <td>70</td>\n",
       "      <td>11</td>\n",
       "      <td>1</td>\n",
       "      <td>1</td>\n",
       "    </tr>\n",
       "    <tr>\n",
       "      <th>3</th>\n",
       "      <td>31</td>\n",
       "      <td>0</td>\n",
       "      <td>3</td>\n",
       "      <td>0</td>\n",
       "      <td>0</td>\n",
       "      <td>156</td>\n",
       "      <td>2020</td>\n",
       "      <td>3</td>\n",
       "      <td>11</td>\n",
       "      <td>71</td>\n",
       "      <td>11</td>\n",
       "      <td>2</td>\n",
       "      <td>1</td>\n",
       "    </tr>\n",
       "    <tr>\n",
       "      <th>4</th>\n",
       "      <td>29</td>\n",
       "      <td>0</td>\n",
       "      <td>3</td>\n",
       "      <td>0</td>\n",
       "      <td>0</td>\n",
       "      <td>179</td>\n",
       "      <td>2020</td>\n",
       "      <td>3</td>\n",
       "      <td>12</td>\n",
       "      <td>72</td>\n",
       "      <td>11</td>\n",
       "      <td>3</td>\n",
       "      <td>1</td>\n",
       "    </tr>\n",
       "  </tbody>\n",
       "</table>\n",
       "</div>"
      ],
      "text/plain": [
       "   temp  new_case  total_case  new_deaths  total_deaths  total_test  year  \\\n",
       "0    30         3           3           0             0         111  2020   \n",
       "1    30         0           3           0             0         126  2020   \n",
       "2    30         0           3           0             0         101  2020   \n",
       "3    31         0           3           0             0         156  2020   \n",
       "4    29         0           3           0             0         179  2020   \n",
       "\n",
       "   month  day  dayofyear  weekofyear  weekday  quarter  \n",
       "0      3    8         68          10        6        1  \n",
       "1      3    9         69          11        0        1  \n",
       "2      3   10         70          11        1        1  \n",
       "3      3   11         71          11        2        1  \n",
       "4      3   12         72          11        3        1  "
      ]
     },
     "execution_count": 225,
     "metadata": {},
     "output_type": "execute_result"
    }
   ],
   "source": [
    "df.head()"
   ]
  },
  {
   "cell_type": "code",
   "execution_count": 226,
   "metadata": {},
   "outputs": [
    {
     "data": {
      "text/plain": [
       "4"
      ]
     },
     "execution_count": 226,
     "metadata": {},
     "output_type": "execute_result"
    }
   ],
   "source": [
    "df['quarter'].nunique()"
   ]
  },
  {
   "cell_type": "code",
   "execution_count": 227,
   "metadata": {},
   "outputs": [
    {
     "data": {
      "text/plain": [
       "array([1, 2, 3, 4])"
      ]
     },
     "execution_count": 227,
     "metadata": {},
     "output_type": "execute_result"
    }
   ],
   "source": [
    "'''\n",
    "January, February, and March (Q1)\n",
    "April, May, and June (Q2)\n",
    "July, August, and September (Q3)\n",
    "October, November, and December (Q4)\n",
    "'''\n",
    "df['quarter'].unique()"
   ]
  },
  {
   "cell_type": "code",
   "execution_count": 228,
   "metadata": {},
   "outputs": [
    {
     "data": {
      "text/plain": [
       "7"
      ]
     },
     "execution_count": 228,
     "metadata": {},
     "output_type": "execute_result"
    }
   ],
   "source": [
    "df['weekday'].nunique()"
   ]
  },
  {
   "cell_type": "code",
   "execution_count": 229,
   "metadata": {},
   "outputs": [
    {
     "data": {
      "text/plain": [
       "array([6, 0, 1, 2, 3, 4, 5])"
      ]
     },
     "execution_count": 229,
     "metadata": {},
     "output_type": "execute_result"
    }
   ],
   "source": [
    "df['weekday'].unique()"
   ]
  },
  {
   "cell_type": "code",
   "execution_count": 230,
   "metadata": {},
   "outputs": [],
   "source": [
    "from sklearn.model_selection import train_test_split\n",
    "from sklearn.ensemble import RandomForestClassifier\n",
    "from sklearn import model_selection\n",
    "from sklearn.model_selection import cross_val_score\n",
    "from sklearn.metrics import classification_report, confusion_matrix\n",
    "from sklearn import metrics"
   ]
  },
  {
   "cell_type": "code",
   "execution_count": 231,
   "metadata": {},
   "outputs": [
    {
     "data": {
      "text/plain": [
       "Index(['temp', 'new_case', 'total_case', 'new_deaths', 'total_deaths',\n",
       "       'total_test', 'year', 'month', 'day', 'dayofyear', 'weekofyear',\n",
       "       'weekday', 'quarter'],\n",
       "      dtype='object')"
      ]
     },
     "execution_count": 231,
     "metadata": {},
     "output_type": "execute_result"
    }
   ],
   "source": [
    "df.columns"
   ]
  },
  {
   "cell_type": "code",
   "execution_count": 232,
   "metadata": {},
   "outputs": [
    {
     "data": {
      "text/plain": [
       "'temp,new_case,total_case,new_deaths,total_deaths,total_test,year,month,day,dayofyear,weekofyear,weekday,quarter\\n30,3,3,0,0,111,2020,3,8,68,10,6,1\\n30,0,3,0,0,126,2020,3,9,69,11,0,1\\n30,0,3,0,0,101,2020,3,10,70,11,1,1\\n31,0,3,0,0,156,2020,3,11,71,11,2,1\\n29,0,3,0,0,179,2020,3,12,72,11,3,1\\n28,0,3,0,0,198,2020,3,13,73,11,4,1\\n30,0,3,0,0,207,2020,3,14,74,11,5,1\\n31,2,5,0,0,146,2020,3,15,75,11,6,1\\n32,3,8,0,0,187,2020,3,16,76,12,0,1\\n33,2,10,0,0,175,2020,3,17,77,12,1,1\\n34,4,14,0,0,164,2020,3,18,78,12,2,1\\n33,3,17,0,0,197,2020,3,19,79,12,3,1\\n33,3,20,0,0,176,2020,3,20,80,12,4,1\\n33,5,25,0,0,176,2020,3,21,81,12,5,1\\n32,2,27,0,0,204,2020,3,22,82,12,6,1\\n32,6,33,1,1,183,2020,3,23,83,13,0,1\\n33,6,39,0,1,189,2020,3,24,84,13,1,1\\n33,0,39,0,1,174,2020,3,25,85,13,2,1\\n34,5,44,1,2,186,2020,3,26,86,13,3,1\\n31,4,48,0,2,154,2020,3,27,87,13,4,1\\n31,0,48,1,3,156,2020,3,28,88,13,5,1\\n32,0,48,1,4,169,2020,3,29,89,13,6,1\\n34,1,49,1,5,189,2020,3,30,90,14,0,1\\n35,2,51,0,5,205,2020,3,31,91,14,1,1\\n35,3,54,0,5,167,2020,4,1,92,14,2,2\\n36,2,56,0,5,187,2020,4,2,93,14,3,2\\n36,5,61,0,5,203,2020,4,3,94,14,4,2\\n35,9,70,0,5,434,2020,4,4,95,14,5,2\\n36,18,88,0,5,368,2020,4,5,96,14,6,2\\n37,35,123,1,6,468,2020,4,6,97,15,0,2\\n37,41,164,0,6,679,2020,4,7,98,15,1,2\\n34,54,218,0,6,981,2020,4,8,99,15,2,2\\n36,112,330,2,8,905,2020,4,9,100,15,3,2\\n36,94,424,1,9,1184,2020,4,10,101,15,4,2\\n35,58,482,3,12,1234,2020,4,11,102,15,5,2\\n36,139,621,5,17,1176,2020,4,12,103,15,6,2\\n37,182,803,3,20,1543,2020,4,13,104,16,0,2\\n37,209,1012,1,21,1984,2020,4,14,105,16,1,2\\n37,219,1231,6,27,2498,2020,4,15,106,16,2,2\\n37,341,1572,3,30,2301,2020,4,16,107,16,3,2\\n31,266,1838,4,34,2607,2020,4,17,108,16,4,2\\n33,306,2144,5,39,3108,2020,4,18,109,16,5,2\\n36,312,2456,7,46,3407,2020,4,19,110,16,6,2\\n33,492,2948,4,50,3285,2020,4,20,111,17,0,2\\n33,434,3382,10,60,3765,2020,4,21,112,17,1,2\\n33,390,3772,15,75,4175,2020,4,22,113,17,2,2\\n35,414,4186,9,84,4596,2020,4,23,114,17,3,2\\n36,503,4689,7,91,5143,2020,4,24,115,17,4,2\\n32,309,4998,10,101,5376,2020,4,25,116,17,5,2\\n31,418,5416,9,110,5474,2020,4,26,117,17,6,2\\n33,497,5913,10,120,5782,2020,4,27,118,18,0,2\\n32,549,6462,7,127,6349,2020,4,28,119,18,1,2\\n30,641,7103,4,131,6459,2020,4,29,120,18,2,2\\n31,564,7667,9,140,6870,2020,4,30,121,18,3,2\\n31,571,8238,5,145,7349,2020,5,1,122,18,4,2\\n33,552,8790,7,152,6908,2020,5,2,123,18,5,2\\n30,665,9455,3,155,7135,2020,5,3,124,18,6,2\\n31,688,10143,8,163,7326,2020,5,4,125,19,0,2\\n32,786,10929,5,168,7214,2020,5,5,126,19,1,2\\n29,790,11719,2,170,7457,2020,5,6,127,19,2,2\\n30,706,12425,5,175,7631,2020,5,7,128,19,3,2\\n31,709,13134,2,177,7535,2020,5,8,129,19,4,2\\n35,636,13770,5,182,7987,2020,5,9,130,19,5,2\\n35,887,14657,1,183,6913,2020,5,10,131,19,6,2\\n31,1034,15691,3,186,7319,2020,5,11,132,20,0,2\\n33,969,16660,13,199,7536,2020,5,12,133,20,1,2\\n34,1162,17822,7,206,7632,2020,5,13,134,20,2,2\\n33,1041,18863,8,214,7396,2020,5,14,135,20,3,2\\n33,1202,20065,14,228,7861,2020,5,15,136,20,4,2\\n33,930,20995,11,239,7843,2020,5,16,137,20,5,2\\n33,1273,22268,11,250,7985,2020,5,17,138,20,6,2\\n34,1602,23870,19,269,8184,2020,5,18,139,21,0,2\\n34,1251,25121,14,283,9788,2020,5,19,140,21,1,2\\n34,1617,26738,15,298,10207,2020,5,20,141,21,2,2\\n35,1773,28511,16,314,10262,2020,5,21,142,21,3,2\\n34,1694,30205,14,328,9727,2020,5,22,143,21,4,2\\n34,1873,32078,21,349,10834,2020,5,23,144,21,5,2\\n34,1532,33610,21,370,8908,2020,5,24,145,21,6,2\\n27,1975,35585,16,386,9452,2020,5,25,146,22,0,2\\n30,1166,36751,22,408,5407,2020,5,26,147,22,1,2\\n31,1541,38292,24,432,8150,2020,5,27,148,22,2,2\\n32,2029,40321,20,452,9310,2020,5,28,149,22,3,2\\n33,2523,42844,28,480,11301,2020,5,29,150,22,4,2\\n33,1764,44608,21,501,9887,2020,5,30,151,22,5,2\\n33,2545,47153,21,522,11301,2020,5,31,152,22,6,2\\n30,2381,49534,22,544,11428,2020,6,1,153,23,0,2\\n31,2911,52445,15,559,12704,2020,6,2,154,23,1,2\\n34,2695,55140,23,582,12510,2020,6,3,155,23,2,2\\n32,2423,57563,28,610,13542,2020,6,4,156,23,3,2\\n34,2828,60391,40,650,13563,2020,6,5,157,23,4,2\\n34,2635,63026,22,672,14563,2020,6,6,158,23,5,2\\n33,2743,65769,37,709,14378,2020,6,7,159,23,6,2\\n32,2735,68504,37,746,13986,2020,6,8,160,24,0,2\\n32,3171,71675,35,781,14987,2020,6,9,161,24,1,2\\n32,3190,74865,30,811,15965,2020,6,10,162,24,2,2\\n32,3187,78052,35,846,16638,2020,6,11,163,24,3,2\\n36,3471,81523,42,888,14505,2020,6,12,164,24,4,2\\n31,2856,84379,42,930,15038,2020,6,13,165,24,5,2\\n33,3141,87520,45,975,15673,2020,6,14,166,24,6,2\\n33,3099,90619,37,1012,15437,2020,6,15,167,25,0,2\\n29,3862,94481,37,1049,15398,2020,6,16,168,25,1,2\\n32,4008,98489,46,1095,15843,2020,6,17,169,25,2,2\\n29,3803,102292,44,1139,16784,2020,6,18,170,25,3,2\\n31,3243,105535,32,1171,15876,2020,6,19,171,25,4,2\\n34,3240,108775,38,1209,14378,2020,6,20,172,25,5,2\\n35,3531,112306,53,1262,15636,2020,6,21,173,25,6,2\\n28,3480,115786,43,1305,15987,2020,6,22,174,26,0,2\\n31,3412,119198,38,1343,16543,2020,6,23,175,26,1,2\\n30,3462,122660,45,1388,14786,2020,6,24,176,26,2,2\\n32,3946,126606,37,1425,15432,2020,6,25,177,26,3,2\\n31,3868,130474,39,1464,14387,2020,6,26,178,26,4,2\\n32,3504,133978,38,1502,13786,2020,6,27,179,26,5,2\\n33,3809,137787,43,1545,13678,2020,6,28,180,26,6,2\\n33,4014,141801,37,1582,14329,2020,6,29,181,27,0,2\\n35,3682,145483,39,1621,15439,2020,6,30,182,27,1,2\\n31,3775,149258,40,1661,15876,2020,7,1,183,27,2,3\\n33,4019,153277,34,1695,14536,2020,7,2,184,27,3,3\\n32,3114,156391,43,1738,14973,2020,7,3,185,27,4,3\\n34,3288,159679,45,1783,13786,2020,7,4,186,27,5,3\\n36,2738,162417,64,1847,14587,2020,7,5,187,27,6,3\\n33,3201,165618,41,1888,13654,2020,7,6,188,28,0,3\\n36,3027,168645,38,1926,15794,2020,7,7,189,28,1,3\\n33,3489,172134,42,1968,14673,2020,7,8,190,28,2,3\\n32,3360,175494,29,1997,15438,2020,7,9,191,28,3,3\\n32,2949,178443,55,2052,15673,2020,7,10,192,28,4,3\\n31,2686,181129,44,2096,15638,2020,7,11,193,28,5,3\\n33,2666,183795,55,2151,15439,2020,7,12,194,28,6,3\\n33,3099,186894,46,2197,15489,2020,7,13,195,29,0,3\\n31,3163,190057,41,2238,15764,2020,7,14,196,29,1,3\\n31,3533,193590,37,2275,14674,2020,7,15,197,29,2,3\\n32,2733,196323,30,2305,15489,2020,7,16,198,29,3,3\\n29,3034,199357,47,2352,14398,2020,7,17,199,29,4,3\\n31,2709,202066,39,2391,15648,2020,7,18,200,29,5,3\\n31,2459,204525,33,2424,14976,2020,7,19,201,29,6,3\\n32,2928,207453,33,2457,14562,2020,7,20,202,30,0,3\\n34,3057,210510,39,2496,15649,2020,7,21,203,30,1,3\\n32,2744,213254,51,2547,13527,2020,7,22,204,30,2,3\\n33,2856,216110,34,2581,16583,2020,7,23,205,30,3,3\\n33,2548,218658,37,2618,14362,2020,7,24,206,30,4,3\\n29,2520,221178,50,2668,16747,2020,7,25,207,30,5,3\\n28,2275,223453,41,2709,13564,2020,7,26,208,30,6,3\\n30,2772,226225,42,2751,12664,2020,7,27,209,31,0,3\\n30,2960,229185,50,2801,13762,2020,7,28,210,31,1,3\\n31,3009,232194,35,2836,14346,2020,7,29,211,31,2,3\\n33,2695,234889,38,2874,14328,2020,7,30,212,31,3,3\\n35,2772,237661,54,2928,12567,2020,7,31,213,31,4,3\\n33,2199,239860,37,2965,13765,2020,8,1,214,31,5,3\\n32,886,240746,35,3000,13447,2020,8,2,215,31,6,3\\n32,1356,242102,35,3035,14383,2020,8,3,216,32,0,3\\n34,1918,244020,48,3083,13764,2020,8,4,217,32,1,3\\n32,2654,246674,28,3111,14372,2020,8,5,218,32,2,3\\n33,2977,249651,21,3132,14687,2020,8,6,219,32,3,3\\n34,2851,252502,22,3154,14538,2020,8,7,220,32,4,3\\n35,2611,255113,30,3184,14983,2020,8,8,221,32,5,3\\n32,2487,257600,50,3234,14673,2020,8,9,222,32,6,3\\n31,2907,260507,33,3267,14632,2020,8,10,223,33,0,3\\n34,2996,263503,39,3306,14532,2020,8,11,224,33,1,3\\n32,2995,266498,27,3333,14751,2020,8,12,225,33,2,3\\n35,2617,269115,32,3365,13162,2020,8,13,226,33,3,3\\n34,2766,271881,34,3399,12856,2020,8,14,227,33,4,3\\n34,2644,274525,39,3438,12891,2020,8,15,228,33,5,3\\n33,2024,276549,33,3471,10018,2020,8,16,229,33,6,3\\n31,2595,279144,42,3513,12523,2020,8,17,230,34,0,3\\n34,3200,282344,44,3557,14620,2020,8,18,231,34,1,3\\n34,2747,285091,34,3591,14678,2020,8,19,232,34,2,3\\n31,2868,287959,34,3625,14059,2020,8,20,233,34,3,3\\n30,2401,290360,32,3657,12943,2020,8,21,234,34,4,3\\n31,2265,292625,37,3694,11356,2020,8,22,235,34,5,3\\n30,1973,294598,46,3740,10801,2020,8,23,236,34,6,3\\n31,2485,297083,41,3781,13382,2020,8,24,237,35,0,3\\n28,2545,299628,41,3822,15124,2020,8,25,238,35,1,3\\n30,2519,302147,39,3861,15070,2020,8,26,239,35,2,3\\n29,2436,304583,46,3907,12654,2020,8,27,240,35,3,3\\n32,2211,306794,34,3941,13741,2020,8,28,241,35,4,3\\n33,2131,308925,42,3983,11689,2020,8,29,242,35,5,3\\n32,1897,310822,45,4028,11934,2020,8,30,243,35,6,3\\n31,2174,312996,54,4082,12454,2020,8,31,244,36,0,3\\n32,1950,314946,45,4127,12209,2020,9,1,245,36,1,3\\n30,2582,317528,47,4174,15204,2020,9,2,246,36,2,3\\n31,2158,319686,32,4206,14422,2020,9,3,247,36,3,3\\n33,1929,321615,42,4248,13072,2020,9,4,248,36,4,3\\n32,1950,323565,33,4281,12847,2020,9,5,249,36,5,3\\n29,1592,325157,35,4316,11354,2020,9,6,250,36,6,3\\n34,2202,327359,35,4351,15425,2020,9,7,251,37,0,3\\n33,1892,329251,32,4383,14773,2020,9,8,252,37,1,3\\n35,1827,331078,29,4412,14755,2020,9,9,253,37,2,3\\n34,1892,332970,35,4447,15559,2020,9,10,254,37,3,3\\n33,1792,334762,32,4479,14747,2020,9,11,255,37,4,3\\n31,1282,336044,37,4516,10723,2020,9,12,256,37,5,3\\n33,1476,337520,36,4552,12999,2020,9,13,257,37,6,3\\n31,1812,339332,41,4593,14216,2020,9,14,258,38,0,3\\n30,1724,341056,41,4634,14050,2020,9,15,259,38,1,3\\n31,1615,342671,34,4668,13660,2020,9,16,260,38,2,3\\n32,1593,344264,34,4702,13673,2020,9,17,261,38,3,3\\n32,1541,345805,31,4733,12730,2020,9,18,262,38,4,3\\n32,1567,347372,26,4759,13270,2020,9,19,263,38,5,3\\n33,1546,348918,43,4802,11592,2020,9,20,264,38,6,3\\n32,1703,350621,21,4823,13053,2020,9,21,265,39,0,3\\n33,1557,352178,36,4859,14164,2020,9,22,266,39,1,3\\n29,1666,353844,22,4881,14150,2020,9,23,267,39,2,3\\n34,1540,355384,32,4913,12900,2020,9,24,268,39,3,3\\n33,1383,356767,26,4939,12473,2020,9,25,269,39,4,3\\n31,1106,357873,40,4979,10765,2020,9,26,270,39,5,3\\n31,1275,359148,28,5007,10685,2020,9,27,271,39,6,3\\n31,1407,360555,37,5044,11922,2020,9,28,272,40,0,3\\n30,1488,362043,28,5072,12869,2020,9,29,273,40,1,3\\n30,1436,363479,21,5093,13404,2020,9,30,274,40,2,3\\n31,1508,364987,36,5129,11176,2020,10,1,275,40,3,4\\n31,1396,366383,32,5161,9554,2020,10,2,276,40,4,4\\n33,1182,367565,32,5193,13452,2020,10,3,277,40,5,4\\n31,1125,368690,26,5219,12345,2020,10,4,278,40,6,4\\n34,1442,370132,32,5251,13032,2020,10,5,279,41,0,4\\n31,1499,371631,21,5272,12695,2020,10,6,280,41,1,4\\n31,1520,373151,33,5305,12345,2020,10,7,281,41,2,4\\n31,1441,374592,20,5325,12605,2020,10,8,282,41,3,4\\n32,1278,375870,23,5348,11256,2020,10,9,283,41,4,4\\n31,1203,377073,27,5375,10859,2020,10,10,284,41,5,4\\n30,1193,378266,30,5405,9467,2020,10,11,285,41,6,4\\n31,1472,379738,35,5440,13227,2020,10,12,286,42,0,4\\n31,1537,381275,20,5460,13825,2020,10,13,287,42,1,4\\n33,1684,382959,17,5477,14411,2020,10,14,288,42,2,4\\n33,1600,384559,23,5500,14104,2020,10,15,289,42,3,4\\n33,1527,386086,24,5524,13577,2020,10,16,290,42,4,4\\n31,1209,387295,31,5555,11573,2020,10,17,291,42,5,4\\n32,1274,388569,22,5577,11866,2020,10,18,292,42,6,4\\n33,1637,390206,16,5593,15531,2020,10,19,293,43,0,4\\n32,1380,391586,15,5608,15607,2020,10,20,294,43,1,4\\n33,1545,393131,15,5623,12643,2020,10,21,295,43,2,4\\n34,1696,394827,23,5646,13870,2020,10,22,296,43,3,4\\n31,1586,396413,14,5660,16056,2020,10,23,297,43,4,4\\n30,1094,397507,21,5681,16001,2020,10,24,298,43,5,4\\n34,1308,398815,18,5699,17053,2020,10,25,299,43,6,4\\n33,1436,400251,24,5723,16378,2020,10,26,300,44,0,4\\n29,1335,401586,24,5747,16012,2020,10,27,301,44,1,4\\n27,1493,403079,14,5761,14013,2020,10,28,302,44,2,4\\n28,1681,404760,19,5780,13037,2020,10,29,303,44,3,4\\n32,1604,406364,23,5803,15372,2020,10,30,304,44,4,4\\n31,1320,407684,15,5818,15501,2020,10,31,305,44,5,4\\n32,1568,409252,20,5838,15972,2020,11,1,306,44,6,4\\n32,1736,410988,23,5861,16872,2020,11,2,307,45,0,4\\n33,1659,412647,25,5886,15430,2020,11,3,308,45,1,4\\n33,1517,414164,19,5905,13540,2020,11,4,309,45,2,4\\n30,1842,416006,18,5923,13218,2020,11,5,310,45,3,4\\n30,1469,417475,18,5941,14369,2020,11,6,311,45,4,4\\n30,1289,418764,25,5966,19084,2020,11,7,312,45,5,4\\n31,1474,420238,17,5983,17042,2020,11,8,313,45,6,4\\n32,1683,421921,21,6004,16465,2020,11,9,314,46,0,4\\n31,1699,423620,17,6021,16323,2020,11,10,315,46,1,4\\n30,1733,425353,15,6036,12630,2020,11,11,316,46,2,4\\n30,1845,427198,13,6049,17112,2020,11,12,317,46,3,4\\n30,1767,428965,18,6067,13539,2020,11,13,318,46,4,4\\n31,1531,430496,25,6092,11795,2020,11,14,319,46,5,4\\n32,1837,432333,16,6108,14060,2020,11,15,320,46,6,4\\n32,2139,434472,19,6127,15768,2020,11,16,321,47,0,4\\n31,2212,436684,13,6140,16469,2020,11,17,322,47,1,4\\n31,2111,438795,19,6159,17531,2020,11,18,323,47,2,4\\n32,2364,441159,14,6173,15607,2020,11,19,324,47,3,4\\n32,2275,443434,21,6194,12643,2020,11,20,325,47,4,4\\n31,1847,445281,21,6215,16059,2020,11,21,326,47,5,4\\n31,2060,447341,39,6254,15018,2020,11,22,327,47,6,4\\n28,2419,449760,21,6275,16001,2020,11,23,328,48,0,4\\n30,2230,451990,30,6305,17052,2020,11,24,329,48,1,4\\n29,2156,454146,17,6322,16378,2020,11,25,330,48,2,4\\n27,2292,456438,28,6350,14012,2020,11,26,331,48,3,4\\n28,2273,458711,38,6388,13737,2020,11,27,332,48,4,4\\n27,1908,460619,28,6416,15501,2020,11,28,333,48,5,4\\n30,1788,462407,32,6448,16807,2020,11,29,334,48,6,4\\n29,2525,464932,39,6487,15430,2020,11,30,335,49,0,4\\n28,2293,467225,37,6524,13540,2020,12,1,336,49,1,4\\n28,2198,469423,20,6544,13218,2020,12,2,337,49,2,4\\n27,2316,471739,36,6580,14369,2020,12,3,338,49,3,4\\n29,2252,473991,29,6609,17084,2020,12,4,339,49,4,4\\n27,1798,475789,35,6644,17042,2020,12,5,340,49,5,4\\n28,1756,477545,31,6675,17262,2020,12,6,341,49,6,4\\n27,2198,479743,38,6713,16323,2020,12,7,342,50,0,4\\n27,2202,481945,35,6748,12630,2020,12,8,343,50,1,4\\n23,2159,484104,24,6772,12748,2020,12,9,344,50,2,4\\n24,1861,485965,35,6807,16428,2020,12,10,345,50,3,4\\n22,1884,487849,31,6838,19054,2020,12,11,346,50,4,4\\n24,1329,489178,36,6874,13191,2020,12,12,347,50,5,4\\n24,1355,490533,32,6906,14336,2020,12,13,348,50,6,4\\n26,1799,492332,24,6930,12300,2020,12,14,349,51,0,4\\n25,1877,494209,37,6967,13316,2020,12,15,350,51,1,4\\n26,1632,495841,19,6986,15669,2020,12,16,351,51,2,4\\n24,1134,496975,34,7020,15143,2020,12,17,352,51,3,4\\n25,1318,498293,32,7052,15932,2020,12,18,353,51,4,4\\n25,1267,499560,37,7089,13227,2020,12,19,354,51,5,4\\n24,1153,500713,40,7129,13695,2020,12,20,355,51,6,4\\n24,1470,502183,27,7156,9912,2020,12,21,356,52,0,4\\n24,1318,503501,36,7192,12617,2020,12,22,357,52,1,4\\n24,1367,504868,25,7217,14588,2020,12,23,358,52,2,4\\n26,1234,506102,25,7242,15229,2020,12,24,359,52,3,4\\n25,1163,507265,38,7280,13245,2020,12,25,360,52,4,4\\n27,834,508099,32,7312,9701,2020,12,26,361,52,5,4\\n24,1049,509148,17,7329,10925,2020,12,27,362,52,6,4\\n24,932,510080,30,7359,12069,2020,12,28,363,53,0,4\\n25,1181,511261,19,7378,14642,2020,12,29,364,53,1,4\\n26,1235,512496,20,7398,15544,2020,12,30,365,53,2,4\\n26,1014,513510,30,7428,15381,2020,12,31,366,53,3,4\\n26,990,514500,24,7452,13681,2021,1,1,1,53,4,1\\n24,684,515184,27,7479,12908,2021,1,2,2,53,5,1\\n26,835,516019,30,7509,12920,2021,1,3,3,53,6,1\\n27,910,516929,22,7531,14363,2021,1,4,4,1,0,1\\n27,991,517920,28,7559,15727,2021,1,5,5,1,1,1\\n27,978,518898,17,7576,15544,2021,1,6,6,1,2,1\\n26,1007,519905,23,7599,12908,2021,1,7,7,1,3,1\\n29,785,520690,27,7626,13681,2021,1,8,8,1,4,1\\n27,692,521382,24,7650,14097,2021,1,9,9,1,5,1\\n27,1071,522453,20,7670,12920,2021,1,10,10,1,6,1\\n27,849,523302,17,7687,14097,2021,1,11,11,2,0,1\\n26,718,524020,31,7718,14363,2021,1,12,12,2,1,1\\n25,890,524910,16,7734,15727,2021,1,13,13,2,2,1\\n25,813,525723,22,7756,16608,2021,1,14,14,2,3,1\\n26,762,526485,25,7781,13678,2021,1,15,15,2,4,1\\n27,578,527063,22,7803,12215,2021,1,16,16,2,5,1\\n24,569,527632,16,7819,13447,2021,1,17,17,2,6,1\\n24,697,528329,14,7833,12707,2021,1,18,18,3,0,1\\n24,702,529031,16,7849,15097,2021,1,19,19,3,1,1\\n23,656,529687,13,7862,15410,2021,1,20,20,3,2,1\\n25,584,530271,21,7883,15761,2021,1,21,21,3,3,1\\n24,619,530890,23,7906,14846,2021,1,22,22,3,4,1\\n24,436,531326,16,7922,11115,2021,1,23,23,3,5,1\\n24,473,531799,20,7942,14169,2021,1,24,24,3,6,1\\n25,602,532401,8,7950,14829,2021,1,25,25,4,0,1\\n25,515,532916,16,7966,14401,2021,1,26,26,4,1,1\\n24,528,533444,15,7981,15720,2021,1,27,27,4,2,1\\n24,509,533953,22,8003,14830,2021,1,28,28,4,3,1\\n25,454,534407,20,8023,12075,2021,1,29,29,4,4,1\\n25,363,534770,18,8041,12084,2021,1,30,30,4,5,1\\n25,369,535139,14,8055,12225,2021,1,31,31,4,6,1\\n22,443,535582,17,8072,12475,2021,2,1,32,5,0,1\\n24,525,536107,15,8087,14452,2021,2,2,33,5,1,1\\n26,438,536545,7,8094,14985,2021,2,3,34,5,2,1\\n26,485,537030,17,8111,15273,2021,2,4,35,5,3,1\\n28,435,537465,16,8127,15566,2021,2,5,36,5,4,1\\n28,305,537770,10,8137,12135,2021,2,6,37,5,5,1\\n26,292,538062,12,8149,12404,2021,2,7,38,5,6,1\\n'"
      ]
     },
     "execution_count": 232,
     "metadata": {},
     "output_type": "execute_result"
    }
   ],
   "source": [
    "df.to_csv(index=False)"
   ]
  },
  {
   "cell_type": "code",
   "execution_count": null,
   "metadata": {},
   "outputs": [],
   "source": []
  },
  {
   "cell_type": "code",
   "execution_count": null,
   "metadata": {},
   "outputs": [],
   "source": []
  },
  {
   "cell_type": "code",
   "execution_count": null,
   "metadata": {},
   "outputs": [],
   "source": []
  },
  {
   "cell_type": "code",
   "execution_count": null,
   "metadata": {},
   "outputs": [],
   "source": []
  },
  {
   "cell_type": "code",
   "execution_count": 252,
   "metadata": {},
   "outputs": [
    {
     "data": {
      "text/plain": [
       "array([[<AxesSubplot:title={'center':'temp'}>,\n",
       "        <AxesSubplot:title={'center':'new_case'}>,\n",
       "        <AxesSubplot:title={'center':'total_case'}>,\n",
       "        <AxesSubplot:title={'center':'new_deaths'}>],\n",
       "       [<AxesSubplot:title={'center':'total_deaths'}>,\n",
       "        <AxesSubplot:title={'center':'total_test'}>,\n",
       "        <AxesSubplot:title={'center':'year'}>,\n",
       "        <AxesSubplot:title={'center':'month'}>],\n",
       "       [<AxesSubplot:title={'center':'day'}>,\n",
       "        <AxesSubplot:title={'center':'dayofyear'}>,\n",
       "        <AxesSubplot:title={'center':'weekofyear'}>,\n",
       "        <AxesSubplot:title={'center':'weekday'}>],\n",
       "       [<AxesSubplot:title={'center':'quarter'}>, <AxesSubplot:>,\n",
       "        <AxesSubplot:>, <AxesSubplot:>]], dtype=object)"
      ]
     },
     "execution_count": 252,
     "metadata": {},
     "output_type": "execute_result"
    },
    {
     "data": {
      "image/png": "[encoded data removed]",
      "text/plain": [
       "<Figure size 1440x1080 with 16 Axes>"
      ]
     },
     "metadata": {
      "needs_background": "light"
     },
     "output_type": "display_data"
    }
   ],
   "source": [
    "df.hist(bins=50, figsize=(20,15))"
   ]
  },
  {
   "cell_type": "code",
   "execution_count": 233,
   "metadata": {},
   "outputs": [],
   "source": [
    "import matplotlib.pyplot as plt\n",
    "plt.rcParams['figure.figsize'] = [10, 5]"
   ]
  },
  {
   "cell_type": "code",
   "execution_count": 234,
   "metadata": {},
   "outputs": [
    {
     "data": {
      "image/png": "[encoded data removed]",
      "text/plain": [
       "<Figure size 720x360 with 1 Axes>"
      ]
     },
     "metadata": {
      "needs_background": "light"
     },
     "output_type": "display_data"
    }
   ],
   "source": [
    "import matplotlib as mpl\n",
    "\n",
    "df.pivot_table('new_case', index='weekday',\n",
    "                    columns='year', aggfunc='mean').plot()\n",
    "plt.gca().set_xticklabels(['', 'Wed', 'Thurs', 'Fri', 'Sat', 'Sun', 'Mon', 'Tues'])\n",
    "plt.ylabel('Daily New Case');"
   ]
  },
  {
   "cell_type": "code",
   "execution_count": null,
   "metadata": {},
   "outputs": [],
   "source": []
  },
  {
   "cell_type": "code",
   "execution_count": 235,
   "metadata": {},
   "outputs": [],
   "source": [
    "X = df[['total_case', 'new_deaths', 'total_deaths','total_test', 'year', 'month', 'day', 'dayofyear', 'weekofyear','weekday', 'quarter']].values\n",
    "y = df[['temp', 'new_case']].values"
   ]
  },
  {
   "cell_type": "code",
   "execution_count": 236,
   "metadata": {},
   "outputs": [
    {
     "data": {
      "text/plain": [
       "array([[     3,      0,      0, ...,     10,      6,      1],\n",
       "       [     3,      0,      0, ...,     11,      0,      1],\n",
       "       [     3,      0,      0, ...,     11,      1,      1],\n",
       "       ...,\n",
       "       [537465,     16,   8127, ...,      5,      4,      1],\n",
       "       [537770,     10,   8137, ...,      5,      5,      1],\n",
       "       [538062,     12,   8149, ...,      5,      6,      1]])"
      ]
     },
     "execution_count": 236,
     "metadata": {},
     "output_type": "execute_result"
    }
   ],
   "source": [
    "X"
   ]
  },
  {
   "cell_type": "code",
   "execution_count": 237,
   "metadata": {},
   "outputs": [
    {
     "data": {
      "text/plain": [
       "array([[  30,    3],\n",
       "       [  30,    0],\n",
       "       [  30,    0],\n",
       "       [  31,    0],\n",
       "       [  29,    0],\n",
       "       [  28,    0],\n",
       "       [  30,    0],\n",
       "       [  31,    2],\n",
       "       [  32,    3],\n",
       "       [  33,    2],\n",
       "       [  34,    4],\n",
       "       [  33,    3],\n",
       "       [  33,    3],\n",
       "       [  33,    5],\n",
       "       [  32,    2],\n",
       "       [  32,    6],\n",
       "       [  33,    6],\n",
       "       [  33,    0],\n",
       "       [  34,    5],\n",
       "       [  31,    4],\n",
       "       [  31,    0],\n",
       "       [  32,    0],\n",
       "       [  34,    1],\n",
       "       [  35,    2],\n",
       "       [  35,    3],\n",
       "       [  36,    2],\n",
       "       [  36,    5],\n",
       "       [  35,    9],\n",
       "       [  36,   18],\n",
       "       [  37,   35],\n",
       "       [  37,   41],\n",
       "       [  34,   54],\n",
       "       [  36,  112],\n",
       "       [  36,   94],\n",
       "       [  35,   58],\n",
       "       [  36,  139],\n",
       "       [  37,  182],\n",
       "       [  37,  209],\n",
       "       [  37,  219],\n",
       "       [  37,  341],\n",
       "       [  31,  266],\n",
       "       [  33,  306],\n",
       "       [  36,  312],\n",
       "       [  33,  492],\n",
       "       [  33,  434],\n",
       "       [  33,  390],\n",
       "       [  35,  414],\n",
       "       [  36,  503],\n",
       "       [  32,  309],\n",
       "       [  31,  418],\n",
       "       [  33,  497],\n",
       "       [  32,  549],\n",
       "       [  30,  641],\n",
       "       [  31,  564],\n",
       "       [  31,  571],\n",
       "       [  33,  552],\n",
       "       [  30,  665],\n",
       "       [  31,  688],\n",
       "       [  32,  786],\n",
       "       [  29,  790],\n",
       "       [  30,  706],\n",
       "       [  31,  709],\n",
       "       [  35,  636],\n",
       "       [  35,  887],\n",
       "       [  31, 1034],\n",
       "       [  33,  969],\n",
       "       [  34, 1162],\n",
       "       [  33, 1041],\n",
       "       [  33, 1202],\n",
       "       [  33,  930],\n",
       "       [  33, 1273],\n",
       "       [  34, 1602],\n",
       "       [  34, 1251],\n",
       "       [  34, 1617],\n",
       "       [  35, 1773],\n",
       "       [  34, 1694],\n",
       "       [  34, 1873],\n",
       "       [  34, 1532],\n",
       "       [  27, 1975],\n",
       "       [  30, 1166],\n",
       "       [  31, 1541],\n",
       "       [  32, 2029],\n",
       "       [  33, 2523],\n",
       "       [  33, 1764],\n",
       "       [  33, 2545],\n",
       "       [  30, 2381],\n",
       "       [  31, 2911],\n",
       "       [  34, 2695],\n",
       "       [  32, 2423],\n",
       "       [  34, 2828],\n",
       "       [  34, 2635],\n",
       "       [  33, 2743],\n",
       "       [  32, 2735],\n",
       "       [  32, 3171],\n",
       "       [  32, 3190],\n",
       "       [  32, 3187],\n",
       "       [  36, 3471],\n",
       "       [  31, 2856],\n",
       "       [  33, 3141],\n",
       "       [  33, 3099],\n",
       "       [  29, 3862],\n",
       "       [  32, 4008],\n",
       "       [  29, 3803],\n",
       "       [  31, 3243],\n",
       "       [  34, 3240],\n",
       "       [  35, 3531],\n",
       "       [  28, 3480],\n",
       "       [  31, 3412],\n",
       "       [  30, 3462],\n",
       "       [  32, 3946],\n",
       "       [  31, 3868],\n",
       "       [  32, 3504],\n",
       "       [  33, 3809],\n",
       "       [  33, 4014],\n",
       "       [  35, 3682],\n",
       "       [  31, 3775],\n",
       "       [  33, 4019],\n",
       "       [  32, 3114],\n",
       "       [  34, 3288],\n",
       "       [  36, 2738],\n",
       "       [  33, 3201],\n",
       "       [  36, 3027],\n",
       "       [  33, 3489],\n",
       "       [  32, 3360],\n",
       "       [  32, 2949],\n",
       "       [  31, 2686],\n",
       "       [  33, 2666],\n",
       "       [  33, 3099],\n",
       "       [  31, 3163],\n",
       "       [  31, 3533],\n",
       "       [  32, 2733],\n",
       "       [  29, 3034],\n",
       "       [  31, 2709],\n",
       "       [  31, 2459],\n",
       "       [  32, 2928],\n",
       "       [  34, 3057],\n",
       "       [  32, 2744],\n",
       "       [  33, 2856],\n",
       "       [  33, 2548],\n",
       "       [  29, 2520],\n",
       "       [  28, 2275],\n",
       "       [  30, 2772],\n",
       "       [  30, 2960],\n",
       "       [  31, 3009],\n",
       "       [  33, 2695],\n",
       "       [  35, 2772],\n",
       "       [  33, 2199],\n",
       "       [  32,  886],\n",
       "       [  32, 1356],\n",
       "       [  34, 1918],\n",
       "       [  32, 2654],\n",
       "       [  33, 2977],\n",
       "       [  34, 2851],\n",
       "       [  35, 2611],\n",
       "       [  32, 2487],\n",
       "       [  31, 2907],\n",
       "       [  34, 2996],\n",
       "       [  32, 2995],\n",
       "       [  35, 2617],\n",
       "       [  34, 2766],\n",
       "       [  34, 2644],\n",
       "       [  33, 2024],\n",
       "       [  31, 2595],\n",
       "       [  34, 3200],\n",
       "       [  34, 2747],\n",
       "       [  31, 2868],\n",
       "       [  30, 2401],\n",
       "       [  31, 2265],\n",
       "       [  30, 1973],\n",
       "       [  31, 2485],\n",
       "       [  28, 2545],\n",
       "       [  30, 2519],\n",
       "       [  29, 2436],\n",
       "       [  32, 2211],\n",
       "       [  33, 2131],\n",
       "       [  32, 1897],\n",
       "       [  31, 2174],\n",
       "       [  32, 1950],\n",
       "       [  30, 2582],\n",
       "       [  31, 2158],\n",
       "       [  33, 1929],\n",
       "       [  32, 1950],\n",
       "       [  29, 1592],\n",
       "       [  34, 2202],\n",
       "       [  33, 1892],\n",
       "       [  35, 1827],\n",
       "       [  34, 1892],\n",
       "       [  33, 1792],\n",
       "       [  31, 1282],\n",
       "       [  33, 1476],\n",
       "       [  31, 1812],\n",
       "       [  30, 1724],\n",
       "       [  31, 1615],\n",
       "       [  32, 1593],\n",
       "       [  32, 1541],\n",
       "       [  32, 1567],\n",
       "       [  33, 1546],\n",
       "       [  32, 1703],\n",
       "       [  33, 1557],\n",
       "       [  29, 1666],\n",
       "       [  34, 1540],\n",
       "       [  33, 1383],\n",
       "       [  31, 1106],\n",
       "       [  31, 1275],\n",
       "       [  31, 1407],\n",
       "       [  30, 1488],\n",
       "       [  30, 1436],\n",
       "       [  31, 1508],\n",
       "       [  31, 1396],\n",
       "       [  33, 1182],\n",
       "       [  31, 1125],\n",
       "       [  34, 1442],\n",
       "       [  31, 1499],\n",
       "       [  31, 1520],\n",
       "       [  31, 1441],\n",
       "       [  32, 1278],\n",
       "       [  31, 1203],\n",
       "       [  30, 1193],\n",
       "       [  31, 1472],\n",
       "       [  31, 1537],\n",
       "       [  33, 1684],\n",
       "       [  33, 1600],\n",
       "       [  33, 1527],\n",
       "       [  31, 1209],\n",
       "       [  32, 1274],\n",
       "       [  33, 1637],\n",
       "       [  32, 1380],\n",
       "       [  33, 1545],\n",
       "       [  34, 1696],\n",
       "       [  31, 1586],\n",
       "       [  30, 1094],\n",
       "       [  34, 1308],\n",
       "       [  33, 1436],\n",
       "       [  29, 1335],\n",
       "       [  27, 1493],\n",
       "       [  28, 1681],\n",
       "       [  32, 1604],\n",
       "       [  31, 1320],\n",
       "       [  32, 1568],\n",
       "       [  32, 1736],\n",
       "       [  33, 1659],\n",
       "       [  33, 1517],\n",
       "       [  30, 1842],\n",
       "       [  30, 1469],\n",
       "       [  30, 1289],\n",
       "       [  31, 1474],\n",
       "       [  32, 1683],\n",
       "       [  31, 1699],\n",
       "       [  30, 1733],\n",
       "       [  30, 1845],\n",
       "       [  30, 1767],\n",
       "       [  31, 1531],\n",
       "       [  32, 1837],\n",
       "       [  32, 2139],\n",
       "       [  31, 2212],\n",
       "       [  31, 2111],\n",
       "       [  32, 2364],\n",
       "       [  32, 2275],\n",
       "       [  31, 1847],\n",
       "       [  31, 2060],\n",
       "       [  28, 2419],\n",
       "       [  30, 2230],\n",
       "       [  29, 2156],\n",
       "       [  27, 2292],\n",
       "       [  28, 2273],\n",
       "       [  27, 1908],\n",
       "       [  30, 1788],\n",
       "       [  29, 2525],\n",
       "       [  28, 2293],\n",
       "       [  28, 2198],\n",
       "       [  27, 2316],\n",
       "       [  29, 2252],\n",
       "       [  27, 1798],\n",
       "       [  28, 1756],\n",
       "       [  27, 2198],\n",
       "       [  27, 2202],\n",
       "       [  23, 2159],\n",
       "       [  24, 1861],\n",
       "       [  22, 1884],\n",
       "       [  24, 1329],\n",
       "       [  24, 1355],\n",
       "       [  26, 1799],\n",
       "       [  25, 1877],\n",
       "       [  26, 1632],\n",
       "       [  24, 1134],\n",
       "       [  25, 1318],\n",
       "       [  25, 1267],\n",
       "       [  24, 1153],\n",
       "       [  24, 1470],\n",
       "       [  24, 1318],\n",
       "       [  24, 1367],\n",
       "       [  26, 1234],\n",
       "       [  25, 1163],\n",
       "       [  27,  834],\n",
       "       [  24, 1049],\n",
       "       [  24,  932],\n",
       "       [  25, 1181],\n",
       "       [  26, 1235],\n",
       "       [  26, 1014],\n",
       "       [  26,  990],\n",
       "       [  24,  684],\n",
       "       [  26,  835],\n",
       "       [  27,  910],\n",
       "       [  27,  991],\n",
       "       [  27,  978],\n",
       "       [  26, 1007],\n",
       "       [  29,  785],\n",
       "       [  27,  692],\n",
       "       [  27, 1071],\n",
       "       [  27,  849],\n",
       "       [  26,  718],\n",
       "       [  25,  890],\n",
       "       [  25,  813],\n",
       "       [  26,  762],\n",
       "       [  27,  578],\n",
       "       [  24,  569],\n",
       "       [  24,  697],\n",
       "       [  24,  702],\n",
       "       [  23,  656],\n",
       "       [  25,  584],\n",
       "       [  24,  619],\n",
       "       [  24,  436],\n",
       "       [  24,  473],\n",
       "       [  25,  602],\n",
       "       [  25,  515],\n",
       "       [  24,  528],\n",
       "       [  24,  509],\n",
       "       [  25,  454],\n",
       "       [  25,  363],\n",
       "       [  25,  369],\n",
       "       [  22,  443],\n",
       "       [  24,  525],\n",
       "       [  26,  438],\n",
       "       [  26,  485],\n",
       "       [  28,  435],\n",
       "       [  28,  305],\n",
       "       [  26,  292]])"
      ]
     },
     "execution_count": 237,
     "metadata": {},
     "output_type": "execute_result"
    }
   ],
   "source": [
    "y"
   ]
  },
  {
   "cell_type": "code",
   "execution_count": 238,
   "metadata": {},
   "outputs": [],
   "source": [
    "X_train, X_test, y_train, y_test   = train_test_split(X, y, test_size = 0.25, random_state = 42)                             "
   ]
  },
  {
   "cell_type": "code",
   "execution_count": 260,
   "metadata": {},
   "outputs": [
    {
     "name": "stdout",
     "output_type": "stream",
     "text": [
      "74.78% in training set\n",
      "25.22% in test set\n"
     ]
    },
    {
     "data": {
      "text/plain": [
       "([<matplotlib.patches.Wedge at 0x7fdc1c4e54f0>,\n",
       "  <matplotlib.patches.Wedge at 0x7fdc19cad8b0>],\n",
       " [Text(-0.783236648193229, -0.7723602481530469, 'Train Data'),\n",
       "  Text(0.7832366481932291, 0.7723602481530469, 'Test Data')],\n",
       " [Text(-0.4272199899235794, -0.4212874080834801, '74.8%'),\n",
       "  Text(0.42721998992357946, 0.4212874080834801, '25.2%')])"
      ]
     },
     "execution_count": 260,
     "metadata": {},
     "output_type": "execute_result"
    },
    {
     "data": {
      "image/png": "[encoded data removed]",
      "text/plain": [
       "<Figure size 720x360 with 1 Axes>"
      ]
     },
     "metadata": {},
     "output_type": "display_data"
    }
   ],
   "source": [
    "print(\"{0:0.2f}% in training set\".format((len(X_train)/len(df.index)) * 100))\n",
    "print(\"{0:0.2f}% in test set\".format((len(X_test)/len(df.index)) * 100)) \n",
    "size = [len(X_train), len(X_test)]\n",
    "label = ['Train Data', 'Test Data']\n",
    "plt.pie(size, labels=label, autopct='%0.1f%%', shadow=True, startangle=90)"
   ]
  },
  {
   "cell_type": "code",
   "execution_count": 241,
   "metadata": {},
   "outputs": [
    {
     "data": {
      "text/plain": [
       "array([10143,     8,   163,  7326,  2020,     5,     4,   125,    19,\n",
       "           0,     2])"
      ]
     },
     "execution_count": 241,
     "metadata": {},
     "output_type": "execute_result"
    }
   ],
   "source": [
    "X_test[2]"
   ]
  },
  {
   "cell_type": "code",
   "execution_count": 242,
   "metadata": {},
   "outputs": [],
   "source": [
    "import warnings\n",
    "warnings.filterwarnings('ignore')\n",
    "from sklearn.ensemble import RandomForestRegressor\n",
    "rfc = RandomForestRegressor()\n",
    "rfc.fit(X_train,y_train)\n",
    "rfc_predict = rfc.predict([[282344, 44, 3557, 14620, 2020, 8, 18, 231,34, 1,3]])"
   ]
  },
  {
   "cell_type": "code",
   "execution_count": 243,
   "metadata": {},
   "outputs": [],
   "source": [
    "rfc_predict1 = rfc.predict([[10143,     8,   163,  7326,  2020,     5,     4,   125,    19,0,     2]])"
   ]
  },
  {
   "cell_type": "code",
   "execution_count": 244,
   "metadata": {},
   "outputs": [],
   "source": [
    "rfc_predict2 = rfc.predict([[3250, 5, 360, 8000, 2021, 6, 5, 150, 25, 4, 2]])"
   ]
  },
  {
   "cell_type": "code",
   "execution_count": 245,
   "metadata": {},
   "outputs": [
    {
     "name": "stdout",
     "output_type": "stream",
     "text": [
      "[[  32.63 1815.52]]\n"
     ]
    }
   ],
   "source": [
    "print(rfc_predict2)"
   ]
  },
  {
   "cell_type": "code",
   "execution_count": 246,
   "metadata": {},
   "outputs": [
    {
     "name": "stdout",
     "output_type": "stream",
     "text": [
      "[[ 30.99 733.62]]\n"
     ]
    }
   ],
   "source": [
    "print(rfc_predict1)"
   ]
  },
  {
   "cell_type": "code",
   "execution_count": 247,
   "metadata": {},
   "outputs": [
    {
     "name": "stdout",
     "output_type": "stream",
     "text": [
      "[[  32.29 2802.51]]\n"
     ]
    }
   ],
   "source": [
    "  print(rfc_predict)"
   ]
  },
  {
   "cell_type": "code",
   "execution_count": 248,
   "metadata": {},
   "outputs": [
    {
     "data": {
      "text/plain": [
       "0.8749054683213555"
      ]
     },
     "execution_count": 248,
     "metadata": {},
     "output_type": "execute_result"
    }
   ],
   "source": [
    "rfc.score(X_test, y_test)"
   ]
  },
  {
   "cell_type": "code",
   "execution_count": 249,
   "metadata": {},
   "outputs": [
    {
     "data": {
      "text/plain": [
       "0.9806586152408541"
      ]
     },
     "execution_count": 249,
     "metadata": {},
     "output_type": "execute_result"
    }
   ],
   "source": [
    "rfc.score(X_train, y_train)"
   ]
  },
  {
   "cell_type": "code",
   "execution_count": 264,
   "metadata": {},
   "outputs": [
    {
     "data": {
      "text/plain": [
       "Text(0.5, 1.0, 'Random Forest Algorithm')"
      ]
     },
     "execution_count": 264,
     "metadata": {},
     "output_type": "execute_result"
    },
    {
     "data": {
      "image/png": "[encoded data removed]",
      "text/plain": [
       "<Figure size 720x360 with 1 Axes>"
      ]
     },
     "metadata": {
      "needs_background": "light"
     },
     "output_type": "display_data"
    }
   ],
   "source": [
    "rfc_test = rfc.score(X_test, y_test)\n",
    "rfc_train = rfc.score(X_train, y_train)\n",
    "tree_number = [rfc.score(X_test, y_test)*100, rfc.score(X_train, y_train)*100]\n",
    "tree_name = ('Test Data', 'Train Data')\n",
    "tree_pos = np.arange(len(tree_name))\n",
    "plt.bar(tree_pos, tree_number)\n",
    "plt.xticks(tree_pos, tree_name)\n",
    "plt.title('Random Forest Algorithm')"
   ]
  },
  {
   "cell_type": "code",
   "execution_count": 250,
   "metadata": {},
   "outputs": [
    {
     "data": {
      "text/plain": [
       "0.8606110996549183"
      ]
     },
     "execution_count": 250,
     "metadata": {},
     "output_type": "execute_result"
    }
   ],
   "source": [
    "from sklearn.neighbors import KNeighborsRegressor\n",
    "knn = KNeighborsRegressor(n_neighbors=8)\n",
    "knn.fit(X_train, y_train)\n",
    "knn.score(X_test, y_test)"
   ]
  },
  {
   "cell_type": "code",
   "execution_count": 251,
   "metadata": {},
   "outputs": [
    {
     "data": {
      "text/plain": [
       "0.8841967896785925"
      ]
     },
     "execution_count": 251,
     "metadata": {},
     "output_type": "execute_result"
    }
   ],
   "source": [
    "knn.score(X_train, y_train)"
   ]
  },
  {
   "cell_type": "code",
   "execution_count": 265,
   "metadata": {},
   "outputs": [
    {
     "data": {
      "text/plain": [
       "Text(0.5, 1.0, 'KNN Algorithm')"
      ]
     },
     "execution_count": 265,
     "metadata": {},
     "output_type": "execute_result"
    },
    {
     "data": {
      "image/png": "[encoded data removed]",
      "text/plain": [
       "<Figure size 720x360 with 1 Axes>"
      ]
     },
     "metadata": {
      "needs_background": "light"
     },
     "output_type": "display_data"
    }
   ],
   "source": [
    "knn_test = knn.score(X_test, y_test)\n",
    "knn_train = knn.score(X_train, y_train)\n",
    "tree_number1 = [knn.score(X_test, y_test)*100, knn.score(X_train, y_train)*100]\n",
    "tree_name1 = ('Test Data', 'Train Data')\n",
    "tree_pos1 = np.arange(len(tree_name1))\n",
    "plt.bar(tree_pos1, tree_number1)\n",
    "plt.xticks(tree_pos1, tree_name1)\n",
    "plt.title('KNN Algorithm')"
   ]
  },
  {
   "cell_type": "code",
   "execution_count": null,
   "metadata": {},
   "outputs": [],
   "source": []
  }
 ],
 "metadata": {
  "kernelspec": {
   "display_name": "Python 3",
   "language": "python",
   "name": "python3"
  },
  "language_info": {
   "codemirror_mode": {
    "name": "ipython",
    "version": 3
   },
   "file_extension": ".py",
   "mimetype": "text/x-python",
   "name": "python",
   "nbconvert_exporter": "python",
   "pygments_lexer": "ipython3",
   "version": "3.8.5"
  }
 },
 "nbformat": 4,
 "nbformat_minor": 4
}
