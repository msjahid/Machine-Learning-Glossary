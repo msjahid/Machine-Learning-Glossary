{
 "cells": [
  {
   "cell_type": "code",
   "execution_count": 1,
   "id": "ca42587f-fdbb-4d28-a4d1-36bc50852468",
   "metadata": {},
   "outputs": [],
   "source": [
    "import pandas as pd"
   ]
  },
  {
   "cell_type": "code",
   "execution_count": 2,
   "id": "c540d5ef-cc0a-48cb-9c80-4d79b93905a7",
   "metadata": {},
   "outputs": [],
   "source": [
    "df = pd.read_csv('/home/msjahid/Downloads/walmart.csv')"
   ]
  },
  {
   "cell_type": "code",
   "execution_count": 3,
   "id": "60c0211d-4191-4f23-bf50-013f11c888fe",
   "metadata": {},
   "outputs": [
    {
     "data": {
      "text/html": [
       "<div>\n",
       "<style scoped>\n",
       "    .dataframe tbody tr th:only-of-type {\n",
       "        vertical-align: middle;\n",
       "    }\n",
       "\n",
       "    .dataframe tbody tr th {\n",
       "        vertical-align: top;\n",
       "    }\n",
       "\n",
       "    .dataframe thead th {\n",
       "        text-align: right;\n",
       "    }\n",
       "</style>\n",
       "<table border=\"1\" class=\"dataframe\">\n",
       "  <thead>\n",
       "    <tr style=\"text-align: right;\">\n",
       "      <th></th>\n",
       "      <th>store</th>\n",
       "      <th>type</th>\n",
       "      <th>department</th>\n",
       "      <th>date</th>\n",
       "      <th>weekly_sales</th>\n",
       "      <th>is_holiday</th>\n",
       "      <th>temperature_c</th>\n",
       "      <th>fuel_price_usd_per_l</th>\n",
       "      <th>unemployment</th>\n",
       "    </tr>\n",
       "  </thead>\n",
       "  <tbody>\n",
       "    <tr>\n",
       "      <th>1264</th>\n",
       "      <td>2</td>\n",
       "      <td>A</td>\n",
       "      <td>32</td>\n",
       "      <td>2010-05-07</td>\n",
       "      <td>14371.49</td>\n",
       "      <td>False</td>\n",
       "      <td>21.822222</td>\n",
       "      <td>0.748928</td>\n",
       "      <td>8.200</td>\n",
       "    </tr>\n",
       "    <tr>\n",
       "      <th>2953</th>\n",
       "      <td>6</td>\n",
       "      <td>A</td>\n",
       "      <td>23</td>\n",
       "      <td>2010-04-02</td>\n",
       "      <td>31044.79</td>\n",
       "      <td>False</td>\n",
       "      <td>18.300000</td>\n",
       "      <td>0.718284</td>\n",
       "      <td>7.092</td>\n",
       "    </tr>\n",
       "    <tr>\n",
       "      <th>6570</th>\n",
       "      <td>19</td>\n",
       "      <td>A</td>\n",
       "      <td>25</td>\n",
       "      <td>2010-06-04</td>\n",
       "      <td>15043.75</td>\n",
       "      <td>False</td>\n",
       "      <td>20.488889</td>\n",
       "      <td>0.794102</td>\n",
       "      <td>8.185</td>\n",
       "    </tr>\n",
       "    <tr>\n",
       "      <th>1102</th>\n",
       "      <td>2</td>\n",
       "      <td>A</td>\n",
       "      <td>18</td>\n",
       "      <td>2010-12-03</td>\n",
       "      <td>71185.71</td>\n",
       "      <td>False</td>\n",
       "      <td>9.627778</td>\n",
       "      <td>0.715378</td>\n",
       "      <td>8.163</td>\n",
       "    </tr>\n",
       "    <tr>\n",
       "      <th>2064</th>\n",
       "      <td>4</td>\n",
       "      <td>A</td>\n",
       "      <td>24</td>\n",
       "      <td>2010-04-02</td>\n",
       "      <td>11589.60</td>\n",
       "      <td>False</td>\n",
       "      <td>9.316667</td>\n",
       "      <td>0.723832</td>\n",
       "      <td>7.896</td>\n",
       "    </tr>\n",
       "  </tbody>\n",
       "</table>\n",
       "</div>"
      ],
      "text/plain": [
       "      store type  department        date  weekly_sales  is_holiday  \\\n",
       "1264      2    A          32  2010-05-07      14371.49       False   \n",
       "2953      6    A          23  2010-04-02      31044.79       False   \n",
       "6570     19    A          25  2010-06-04      15043.75       False   \n",
       "1102      2    A          18  2010-12-03      71185.71       False   \n",
       "2064      4    A          24  2010-04-02      11589.60       False   \n",
       "\n",
       "      temperature_c  fuel_price_usd_per_l  unemployment  \n",
       "1264      21.822222              0.748928         8.200  \n",
       "2953      18.300000              0.718284         7.092  \n",
       "6570      20.488889              0.794102         8.185  \n",
       "1102       9.627778              0.715378         8.163  \n",
       "2064       9.316667              0.723832         7.896  "
      ]
     },
     "execution_count": 3,
     "metadata": {},
     "output_type": "execute_result"
    }
   ],
   "source": [
    "df.sample(5)"
   ]
  },
  {
   "cell_type": "code",
   "execution_count": 4,
   "id": "ef42fa51-376b-4eb5-8bc1-bfcff20ce061",
   "metadata": {},
   "outputs": [
    {
     "data": {
      "text/plain": [
       "store                   False\n",
       "type                    False\n",
       "department              False\n",
       "date                    False\n",
       "weekly_sales            False\n",
       "is_holiday              False\n",
       "temperature_c           False\n",
       "fuel_price_usd_per_l    False\n",
       "unemployment            False\n",
       "dtype: bool"
      ]
     },
     "execution_count": 4,
     "metadata": {},
     "output_type": "execute_result"
    }
   ],
   "source": [
    "# Check for null values in each column\n",
    "df.isnull().any()"
   ]
  },
  {
   "cell_type": "markdown",
   "id": "ad8bc1b5-ef0c-42f7-93bf-b47c0d837800",
   "metadata": {},
   "source": [
    "<b>Decesion:</b> As all columns are showing False, which means that there are no null values present in any of the columns including 'store', 'type', 'department', 'date', 'weekly_sales', 'is_holiday', 'temperature_c', 'fuel_price_usd_per_l', 'unemployment'"
   ]
  },
  {
   "cell_type": "code",
   "execution_count": 5,
   "id": "ca2a8bee-5a98-423a-acc5-6d27caebc777",
   "metadata": {},
   "outputs": [
    {
     "name": "stdout",
     "output_type": "stream",
     "text": [
      "<class 'pandas.core.frame.DataFrame'>\n",
      "RangeIndex: 10774 entries, 0 to 10773\n",
      "Data columns (total 9 columns):\n",
      " #   Column                Non-Null Count  Dtype  \n",
      "---  ------                --------------  -----  \n",
      " 0   store                 10774 non-null  int64  \n",
      " 1   type                  10774 non-null  object \n",
      " 2   department            10774 non-null  int64  \n",
      " 3   date                  10774 non-null  object \n",
      " 4   weekly_sales          10774 non-null  float64\n",
      " 5   is_holiday            10774 non-null  bool   \n",
      " 6   temperature_c         10774 non-null  float64\n",
      " 7   fuel_price_usd_per_l  10774 non-null  float64\n",
      " 8   unemployment          10774 non-null  float64\n",
      "dtypes: bool(1), float64(4), int64(2), object(2)\n",
      "memory usage: 684.0+ KB\n"
     ]
    }
   ],
   "source": [
    "# Check data types\n",
    "df.info()"
   ]
  },
  {
   "cell_type": "markdown",
   "id": "86e4cad6-da23-4602-916a-e549da9b29c5",
   "metadata": {},
   "source": [
    "<b>Decesion:</b> Date column is showing as an object format. We can handle it two different ways\n",
    "1. split string\n",
    "2. change the data type object to DateTime"
   ]
  },
  {
   "cell_type": "code",
   "execution_count": 6,
   "id": "88ef2f97-5138-4845-938d-ec4a95eee107",
   "metadata": {},
   "outputs": [
    {
     "name": "stdout",
     "output_type": "stream",
     "text": [
      "       store type  department        date  weekly_sales  is_holiday  \\\n",
      "0          1    A           1  2010-02-05      24924.50       False   \n",
      "1          1    A           1  2010-03-05      21827.90       False   \n",
      "2          1    A           1  2010-04-02      57258.43       False   \n",
      "3          1    A           1  2010-05-07      17413.94       False   \n",
      "4          1    A           1  2010-06-04      17558.09       False   \n",
      "...      ...  ...         ...         ...           ...         ...   \n",
      "10769     39    A          99  2011-12-09        895.00       False   \n",
      "10770     39    A          99  2012-02-03        350.00       False   \n",
      "10771     39    A          99  2012-06-08        450.00       False   \n",
      "10772     39    A          99  2012-07-13          0.06       False   \n",
      "10773     39    A          99  2012-10-05        915.00       False   \n",
      "\n",
      "       temperature_c  fuel_price_usd_per_l  unemployment  year month day  \\\n",
      "0           5.727778              0.679451         8.106  2010    02  05   \n",
      "1           8.055556              0.693452         8.106  2010    03  05   \n",
      "2          16.816667              0.718284         7.808  2010    04  02   \n",
      "3          22.527778              0.748928         7.808  2010    05  07   \n",
      "4          27.050000              0.714586         7.808  2010    06  04   \n",
      "...              ...                   ...           ...   ...   ...  ..   \n",
      "10769       9.644444              0.834256         7.716  2011    12  09   \n",
      "10770      15.938889              0.887619         7.244  2012    02  03   \n",
      "10771      27.288889              0.911922         6.989  2012    06  08   \n",
      "10772      25.644444              0.860145         6.623  2012    07  13   \n",
      "10773      22.250000              0.955511         6.228  2012    10  05   \n",
      "\n",
      "      formatted_date  \n",
      "0         05-02-2010  \n",
      "1         05-03-2010  \n",
      "2         02-04-2010  \n",
      "3         07-05-2010  \n",
      "4         04-06-2010  \n",
      "...              ...  \n",
      "10769     09-12-2011  \n",
      "10770     03-02-2012  \n",
      "10771     08-06-2012  \n",
      "10772     13-07-2012  \n",
      "10773     05-10-2012  \n",
      "\n",
      "[10774 rows x 13 columns]\n"
     ]
    }
   ],
   "source": [
    "# Number one solution is \n",
    "\n",
    "# copy the original data frame for implementing solution one\n",
    "\n",
    "data = df.copy()\n",
    "\n",
    "# Split the date column into year, month, and day parts\n",
    "data[['year', 'month', 'day']] = data['date'].str.split('-', expand=True)\n",
    "\n",
    "# Reorder the parts as desired and create a new formatted date column\n",
    "data['formatted_date'] = data['day'] + '-' + data['month'] + '-' + data['year']\n",
    "\n",
    "print(data)"
   ]
  },
  {
   "cell_type": "code",
   "execution_count": 7,
   "id": "f71e7f7b-bdb9-4be1-a285-28ab34d8c940",
   "metadata": {},
   "outputs": [
    {
     "name": "stdout",
     "output_type": "stream",
     "text": [
      "All values in 'date' column are valid dates.\n"
     ]
    }
   ],
   "source": [
    "# 2. The last solution\n",
    "\n",
    "# Attempt to convert 'date' column to datetime format\n",
    "try:\n",
    "    df['date'] = pd.to_datetime(df['date'])\n",
    "    print(\"All values in 'date' column are valid dates.\")\n",
    "except ValueError as e:\n",
    "    print(\"Error:\", e)\n",
    "    print(\"There are non-date values present in the 'date' column.\")"
   ]
  },
  {
   "cell_type": "code",
   "execution_count": 8,
   "id": "31f385d6-ae52-427d-87c0-290dc8d5dddd",
   "metadata": {},
   "outputs": [
    {
     "name": "stdout",
     "output_type": "stream",
     "text": [
      "<class 'pandas.core.frame.DataFrame'>\n",
      "RangeIndex: 10774 entries, 0 to 10773\n",
      "Data columns (total 9 columns):\n",
      " #   Column                Non-Null Count  Dtype         \n",
      "---  ------                --------------  -----         \n",
      " 0   store                 10774 non-null  int64         \n",
      " 1   type                  10774 non-null  object        \n",
      " 2   department            10774 non-null  int64         \n",
      " 3   date                  10774 non-null  datetime64[ns]\n",
      " 4   weekly_sales          10774 non-null  float64       \n",
      " 5   is_holiday            10774 non-null  bool          \n",
      " 6   temperature_c         10774 non-null  float64       \n",
      " 7   fuel_price_usd_per_l  10774 non-null  float64       \n",
      " 8   unemployment          10774 non-null  float64       \n",
      "dtypes: bool(1), datetime64[ns](1), float64(4), int64(2), object(1)\n",
      "memory usage: 684.0+ KB\n"
     ]
    }
   ],
   "source": [
    "df.info()\n",
    "# Now date data type is going to datetime"
   ]
  },
  {
   "cell_type": "code",
   "execution_count": 9,
   "id": "33ed3b0b-9989-4f06-b33d-c9373269533f",
   "metadata": {},
   "outputs": [],
   "source": [
    "df['date'] = df['date'].dt.strftime('%d-%m-%Y')  # Example format: YYYY-MM-DD"
   ]
  },
  {
   "cell_type": "code",
   "execution_count": 10,
   "id": "d262e84c-7681-44fe-bbd2-0d6107c2a00f",
   "metadata": {},
   "outputs": [
    {
     "data": {
      "text/html": [
       "<div>\n",
       "<style scoped>\n",
       "    .dataframe tbody tr th:only-of-type {\n",
       "        vertical-align: middle;\n",
       "    }\n",
       "\n",
       "    .dataframe tbody tr th {\n",
       "        vertical-align: top;\n",
       "    }\n",
       "\n",
       "    .dataframe thead th {\n",
       "        text-align: right;\n",
       "    }\n",
       "</style>\n",
       "<table border=\"1\" class=\"dataframe\">\n",
       "  <thead>\n",
       "    <tr style=\"text-align: right;\">\n",
       "      <th></th>\n",
       "      <th>store</th>\n",
       "      <th>type</th>\n",
       "      <th>department</th>\n",
       "      <th>date</th>\n",
       "      <th>weekly_sales</th>\n",
       "      <th>is_holiday</th>\n",
       "      <th>temperature_c</th>\n",
       "      <th>fuel_price_usd_per_l</th>\n",
       "      <th>unemployment</th>\n",
       "    </tr>\n",
       "  </thead>\n",
       "  <tbody>\n",
       "    <tr>\n",
       "      <th>0</th>\n",
       "      <td>1</td>\n",
       "      <td>A</td>\n",
       "      <td>1</td>\n",
       "      <td>05-02-2010</td>\n",
       "      <td>24924.50</td>\n",
       "      <td>False</td>\n",
       "      <td>5.727778</td>\n",
       "      <td>0.679451</td>\n",
       "      <td>8.106</td>\n",
       "    </tr>\n",
       "    <tr>\n",
       "      <th>1</th>\n",
       "      <td>1</td>\n",
       "      <td>A</td>\n",
       "      <td>1</td>\n",
       "      <td>05-03-2010</td>\n",
       "      <td>21827.90</td>\n",
       "      <td>False</td>\n",
       "      <td>8.055556</td>\n",
       "      <td>0.693452</td>\n",
       "      <td>8.106</td>\n",
       "    </tr>\n",
       "    <tr>\n",
       "      <th>2</th>\n",
       "      <td>1</td>\n",
       "      <td>A</td>\n",
       "      <td>1</td>\n",
       "      <td>02-04-2010</td>\n",
       "      <td>57258.43</td>\n",
       "      <td>False</td>\n",
       "      <td>16.816667</td>\n",
       "      <td>0.718284</td>\n",
       "      <td>7.808</td>\n",
       "    </tr>\n",
       "    <tr>\n",
       "      <th>3</th>\n",
       "      <td>1</td>\n",
       "      <td>A</td>\n",
       "      <td>1</td>\n",
       "      <td>07-05-2010</td>\n",
       "      <td>17413.94</td>\n",
       "      <td>False</td>\n",
       "      <td>22.527778</td>\n",
       "      <td>0.748928</td>\n",
       "      <td>7.808</td>\n",
       "    </tr>\n",
       "    <tr>\n",
       "      <th>4</th>\n",
       "      <td>1</td>\n",
       "      <td>A</td>\n",
       "      <td>1</td>\n",
       "      <td>04-06-2010</td>\n",
       "      <td>17558.09</td>\n",
       "      <td>False</td>\n",
       "      <td>27.050000</td>\n",
       "      <td>0.714586</td>\n",
       "      <td>7.808</td>\n",
       "    </tr>\n",
       "  </tbody>\n",
       "</table>\n",
       "</div>"
      ],
      "text/plain": [
       "   store type  department        date  weekly_sales  is_holiday  \\\n",
       "0      1    A           1  05-02-2010      24924.50       False   \n",
       "1      1    A           1  05-03-2010      21827.90       False   \n",
       "2      1    A           1  02-04-2010      57258.43       False   \n",
       "3      1    A           1  07-05-2010      17413.94       False   \n",
       "4      1    A           1  04-06-2010      17558.09       False   \n",
       "\n",
       "   temperature_c  fuel_price_usd_per_l  unemployment  \n",
       "0       5.727778              0.679451         8.106  \n",
       "1       8.055556              0.693452         8.106  \n",
       "2      16.816667              0.718284         7.808  \n",
       "3      22.527778              0.748928         7.808  \n",
       "4      27.050000              0.714586         7.808  "
      ]
     },
     "execution_count": 10,
     "metadata": {},
     "output_type": "execute_result"
    }
   ],
   "source": [
    "df.head()"
   ]
  },
  {
   "cell_type": "code",
   "execution_count": null,
   "id": "581e9d0d-b411-41b5-ab7d-f3ffcde0ba8a",
   "metadata": {},
   "outputs": [],
   "source": []
  }
 ],
 "metadata": {
  "kernelspec": {
   "display_name": "Python 3 (ipykernel)",
   "language": "python",
   "name": "python3"
  },
  "language_info": {
   "codemirror_mode": {
    "name": "ipython",
    "version": 3
   },
   "file_extension": ".py",
   "mimetype": "text/x-python",
   "name": "python",
   "nbconvert_exporter": "python",
   "pygments_lexer": "ipython3",
   "version": "3.11.7"
  }
 },
 "nbformat": 4,
 "nbformat_minor": 5
}
